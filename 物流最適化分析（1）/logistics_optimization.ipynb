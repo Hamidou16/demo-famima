{
 "cells": [
  {
   "cell_type": "markdown",
   "metadata": {},
   "source": [
    "# Graph Logisitics Optimization "
   ]
  },
  {
   "cell_type": "code",
   "execution_count": 1,
   "metadata": {},
   "outputs": [
    {
     "output_type": "execute_result",
     "data": {
      "text/plain": "      FCID FCName  FCDemand FCRegion\n0  FC00001   東京工場        28       関東\n1  FC00002  木更津工場        29       関東\n2  FC00003   多摩工場        31       関東\n3  FC00004  横須賀工場        25       関東\n4  FC00005   仙台工場        21       東北\n5  FC00006   山形工場        30       東北\n6  FC00007   那須工場        25       東北\n7  FC00008   青森工場        16       東北",
      "text/html": "<div>\n<style scoped>\n    .dataframe tbody tr th:only-of-type {\n        vertical-align: middle;\n    }\n\n    .dataframe tbody tr th {\n        vertical-align: top;\n    }\n\n    .dataframe thead th {\n        text-align: right;\n    }\n</style>\n<table border=\"1\" class=\"dataframe\">\n  <thead>\n    <tr style=\"text-align: right;\">\n      <th></th>\n      <th>FCID</th>\n      <th>FCName</th>\n      <th>FCDemand</th>\n      <th>FCRegion</th>\n    </tr>\n  </thead>\n  <tbody>\n    <tr>\n      <th>0</th>\n      <td>FC00001</td>\n      <td>東京工場</td>\n      <td>28</td>\n      <td>関東</td>\n    </tr>\n    <tr>\n      <th>1</th>\n      <td>FC00002</td>\n      <td>木更津工場</td>\n      <td>29</td>\n      <td>関東</td>\n    </tr>\n    <tr>\n      <th>2</th>\n      <td>FC00003</td>\n      <td>多摩工場</td>\n      <td>31</td>\n      <td>関東</td>\n    </tr>\n    <tr>\n      <th>3</th>\n      <td>FC00004</td>\n      <td>横須賀工場</td>\n      <td>25</td>\n      <td>関東</td>\n    </tr>\n    <tr>\n      <th>4</th>\n      <td>FC00005</td>\n      <td>仙台工場</td>\n      <td>21</td>\n      <td>東北</td>\n    </tr>\n    <tr>\n      <th>5</th>\n      <td>FC00006</td>\n      <td>山形工場</td>\n      <td>30</td>\n      <td>東北</td>\n    </tr>\n    <tr>\n      <th>6</th>\n      <td>FC00007</td>\n      <td>那須工場</td>\n      <td>25</td>\n      <td>東北</td>\n    </tr>\n    <tr>\n      <th>7</th>\n      <td>FC00008</td>\n      <td>青森工場</td>\n      <td>16</td>\n      <td>東北</td>\n    </tr>\n  </tbody>\n</table>\n</div>"
     },
     "metadata": {},
     "execution_count": 1
    }
   ],
   "source": [
    "import pandas as pd\n",
    "\n",
    "factories = pd.read_csv('tbl_factory.csv')\n",
    "factories"
   ]
  },
  {
   "cell_type": "code",
   "execution_count": 7,
   "metadata": {},
   "outputs": [
    {
     "output_type": "execute_result",
     "data": {
      "text/plain": "(8, 4)"
     },
     "metadata": {},
     "execution_count": 7
    }
   ],
   "source": [
    "factories.shape"
   ]
  },
  {
   "cell_type": "code",
   "execution_count": 2,
   "metadata": {},
   "outputs": [
    {
     "output_type": "execute_result",
     "data": {
      "text/plain": "      WHID WHName  WHSupply WHRegion\n0  WH00001   杉並倉庫        35       関東\n1  WH00002   品川倉庫        41       関東\n2  WH00003   豊洲倉庫        42       関東\n3  WH00004   郡山倉庫        60       東北\n4  WH00005   仙台倉庫        72       東北\n5  WH00006   山形倉庫        65       東北",
      "text/html": "<div>\n<style scoped>\n    .dataframe tbody tr th:only-of-type {\n        vertical-align: middle;\n    }\n\n    .dataframe tbody tr th {\n        vertical-align: top;\n    }\n\n    .dataframe thead th {\n        text-align: right;\n    }\n</style>\n<table border=\"1\" class=\"dataframe\">\n  <thead>\n    <tr style=\"text-align: right;\">\n      <th></th>\n      <th>WHID</th>\n      <th>WHName</th>\n      <th>WHSupply</th>\n      <th>WHRegion</th>\n    </tr>\n  </thead>\n  <tbody>\n    <tr>\n      <th>0</th>\n      <td>WH00001</td>\n      <td>杉並倉庫</td>\n      <td>35</td>\n      <td>関東</td>\n    </tr>\n    <tr>\n      <th>1</th>\n      <td>WH00002</td>\n      <td>品川倉庫</td>\n      <td>41</td>\n      <td>関東</td>\n    </tr>\n    <tr>\n      <th>2</th>\n      <td>WH00003</td>\n      <td>豊洲倉庫</td>\n      <td>42</td>\n      <td>関東</td>\n    </tr>\n    <tr>\n      <th>3</th>\n      <td>WH00004</td>\n      <td>郡山倉庫</td>\n      <td>60</td>\n      <td>東北</td>\n    </tr>\n    <tr>\n      <th>4</th>\n      <td>WH00005</td>\n      <td>仙台倉庫</td>\n      <td>72</td>\n      <td>東北</td>\n    </tr>\n    <tr>\n      <th>5</th>\n      <td>WH00006</td>\n      <td>山形倉庫</td>\n      <td>65</td>\n      <td>東北</td>\n    </tr>\n  </tbody>\n</table>\n</div>"
     },
     "metadata": {},
     "execution_count": 2
    }
   ],
   "source": [
    "warehouses = pd.read_csv('tbl_warehouse.csv')\n",
    "warehouses"
   ]
  },
  {
   "cell_type": "code",
   "execution_count": 3,
   "metadata": {},
   "outputs": [
    {
     "output_type": "execute_result",
     "data": {
      "text/plain": "    RCostID     FCID     WHID  Cost\n0         1  FC00001  WH00001   0.4\n1         2  FC00001  WH00002   0.8\n2         3  FC00001  WH00003   1.5\n3         4  FC00002  WH00001   0.9\n4         5  FC00002  WH00002   0.8\n5         6  FC00002  WH00003   1.6\n6         7  FC00003  WH00001   1.2\n7         8  FC00003  WH00002   1.3\n8         9  FC00003  WH00003   1.5\n9        10  FC00004  WH00001   0.8\n10       11  FC00004  WH00002   1.0\n11       12  FC00004  WH00003   1.1\n12       13  FC00005  WH00004   0.8\n13       14  FC00005  WH00005   0.3\n14       15  FC00005  WH00006   1.4\n15       16  FC00006  WH00004   0.9\n16       17  FC00006  WH00005   1.1\n17       18  FC00006  WH00006   0.7\n18       19  FC00007  WH00004   0.9\n19       20  FC00007  WH00005   1.2\n20       21  FC00007  WH00006   1.3\n21       22  FC00008  WH00004   1.5\n22       23  FC00008  WH00005   1.2\n23       24  FC00008  WH00006   1.3",
      "text/html": "<div>\n<style scoped>\n    .dataframe tbody tr th:only-of-type {\n        vertical-align: middle;\n    }\n\n    .dataframe tbody tr th {\n        vertical-align: top;\n    }\n\n    .dataframe thead th {\n        text-align: right;\n    }\n</style>\n<table border=\"1\" class=\"dataframe\">\n  <thead>\n    <tr style=\"text-align: right;\">\n      <th></th>\n      <th>RCostID</th>\n      <th>FCID</th>\n      <th>WHID</th>\n      <th>Cost</th>\n    </tr>\n  </thead>\n  <tbody>\n    <tr>\n      <th>0</th>\n      <td>1</td>\n      <td>FC00001</td>\n      <td>WH00001</td>\n      <td>0.4</td>\n    </tr>\n    <tr>\n      <th>1</th>\n      <td>2</td>\n      <td>FC00001</td>\n      <td>WH00002</td>\n      <td>0.8</td>\n    </tr>\n    <tr>\n      <th>2</th>\n      <td>3</td>\n      <td>FC00001</td>\n      <td>WH00003</td>\n      <td>1.5</td>\n    </tr>\n    <tr>\n      <th>3</th>\n      <td>4</td>\n      <td>FC00002</td>\n      <td>WH00001</td>\n      <td>0.9</td>\n    </tr>\n    <tr>\n      <th>4</th>\n      <td>5</td>\n      <td>FC00002</td>\n      <td>WH00002</td>\n      <td>0.8</td>\n    </tr>\n    <tr>\n      <th>5</th>\n      <td>6</td>\n      <td>FC00002</td>\n      <td>WH00003</td>\n      <td>1.6</td>\n    </tr>\n    <tr>\n      <th>6</th>\n      <td>7</td>\n      <td>FC00003</td>\n      <td>WH00001</td>\n      <td>1.2</td>\n    </tr>\n    <tr>\n      <th>7</th>\n      <td>8</td>\n      <td>FC00003</td>\n      <td>WH00002</td>\n      <td>1.3</td>\n    </tr>\n    <tr>\n      <th>8</th>\n      <td>9</td>\n      <td>FC00003</td>\n      <td>WH00003</td>\n      <td>1.5</td>\n    </tr>\n    <tr>\n      <th>9</th>\n      <td>10</td>\n      <td>FC00004</td>\n      <td>WH00001</td>\n      <td>0.8</td>\n    </tr>\n    <tr>\n      <th>10</th>\n      <td>11</td>\n      <td>FC00004</td>\n      <td>WH00002</td>\n      <td>1.0</td>\n    </tr>\n    <tr>\n      <th>11</th>\n      <td>12</td>\n      <td>FC00004</td>\n      <td>WH00003</td>\n      <td>1.1</td>\n    </tr>\n    <tr>\n      <th>12</th>\n      <td>13</td>\n      <td>FC00005</td>\n      <td>WH00004</td>\n      <td>0.8</td>\n    </tr>\n    <tr>\n      <th>13</th>\n      <td>14</td>\n      <td>FC00005</td>\n      <td>WH00005</td>\n      <td>0.3</td>\n    </tr>\n    <tr>\n      <th>14</th>\n      <td>15</td>\n      <td>FC00005</td>\n      <td>WH00006</td>\n      <td>1.4</td>\n    </tr>\n    <tr>\n      <th>15</th>\n      <td>16</td>\n      <td>FC00006</td>\n      <td>WH00004</td>\n      <td>0.9</td>\n    </tr>\n    <tr>\n      <th>16</th>\n      <td>17</td>\n      <td>FC00006</td>\n      <td>WH00005</td>\n      <td>1.1</td>\n    </tr>\n    <tr>\n      <th>17</th>\n      <td>18</td>\n      <td>FC00006</td>\n      <td>WH00006</td>\n      <td>0.7</td>\n    </tr>\n    <tr>\n      <th>18</th>\n      <td>19</td>\n      <td>FC00007</td>\n      <td>WH00004</td>\n      <td>0.9</td>\n    </tr>\n    <tr>\n      <th>19</th>\n      <td>20</td>\n      <td>FC00007</td>\n      <td>WH00005</td>\n      <td>1.2</td>\n    </tr>\n    <tr>\n      <th>20</th>\n      <td>21</td>\n      <td>FC00007</td>\n      <td>WH00006</td>\n      <td>1.3</td>\n    </tr>\n    <tr>\n      <th>21</th>\n      <td>22</td>\n      <td>FC00008</td>\n      <td>WH00004</td>\n      <td>1.5</td>\n    </tr>\n    <tr>\n      <th>22</th>\n      <td>23</td>\n      <td>FC00008</td>\n      <td>WH00005</td>\n      <td>1.2</td>\n    </tr>\n    <tr>\n      <th>23</th>\n      <td>24</td>\n      <td>FC00008</td>\n      <td>WH00006</td>\n      <td>1.3</td>\n    </tr>\n  </tbody>\n</table>\n</div>"
     },
     "metadata": {},
     "execution_count": 3
    }
   ],
   "source": [
    "# cost table\n",
    "cost = pd.read_csv('rel_cost.csv')\n",
    "cost"
   ]
  },
  {
   "cell_type": "code",
   "execution_count": 4,
   "metadata": {},
   "outputs": [
    {
     "output_type": "execute_result",
     "data": {
      "text/plain": "      TRID      TransactionDate     ToFC   FromWH  Quantity\n0        0  2019-01-01 02:11:10  FC00004  WH00003        33\n1        1  2019-01-01 06:12:42  FC00007  WH00006        19\n2        2  2019-01-01 06:32:32  FC00006  WH00004        31\n3        3  2019-01-01 07:17:06  FC00002  WH00003        18\n4        4  2019-01-01 07:52:18  FC00001  WH00002        30\n...    ...                  ...      ...      ...       ...\n3995  3995  2019-12-31 11:27:51  FC00007  WH00006        29\n3996  3996  2019-12-31 17:10:21  FC00002  WH00003        35\n3997  3997  2019-12-31 19:35:07  FC00003  WH00001        36\n3998  3998  2019-12-31 21:45:07  FC00005  WH00005        34\n3999  3999  2019-12-31 23:19:37  FC00005  WH00005        16\n\n[4000 rows x 5 columns]",
      "text/html": "<div>\n<style scoped>\n    .dataframe tbody tr th:only-of-type {\n        vertical-align: middle;\n    }\n\n    .dataframe tbody tr th {\n        vertical-align: top;\n    }\n\n    .dataframe thead th {\n        text-align: right;\n    }\n</style>\n<table border=\"1\" class=\"dataframe\">\n  <thead>\n    <tr style=\"text-align: right;\">\n      <th></th>\n      <th>TRID</th>\n      <th>TransactionDate</th>\n      <th>ToFC</th>\n      <th>FromWH</th>\n      <th>Quantity</th>\n    </tr>\n  </thead>\n  <tbody>\n    <tr>\n      <th>0</th>\n      <td>0</td>\n      <td>2019-01-01 02:11:10</td>\n      <td>FC00004</td>\n      <td>WH00003</td>\n      <td>33</td>\n    </tr>\n    <tr>\n      <th>1</th>\n      <td>1</td>\n      <td>2019-01-01 06:12:42</td>\n      <td>FC00007</td>\n      <td>WH00006</td>\n      <td>19</td>\n    </tr>\n    <tr>\n      <th>2</th>\n      <td>2</td>\n      <td>2019-01-01 06:32:32</td>\n      <td>FC00006</td>\n      <td>WH00004</td>\n      <td>31</td>\n    </tr>\n    <tr>\n      <th>3</th>\n      <td>3</td>\n      <td>2019-01-01 07:17:06</td>\n      <td>FC00002</td>\n      <td>WH00003</td>\n      <td>18</td>\n    </tr>\n    <tr>\n      <th>4</th>\n      <td>4</td>\n      <td>2019-01-01 07:52:18</td>\n      <td>FC00001</td>\n      <td>WH00002</td>\n      <td>30</td>\n    </tr>\n    <tr>\n      <th>...</th>\n      <td>...</td>\n      <td>...</td>\n      <td>...</td>\n      <td>...</td>\n      <td>...</td>\n    </tr>\n    <tr>\n      <th>3995</th>\n      <td>3995</td>\n      <td>2019-12-31 11:27:51</td>\n      <td>FC00007</td>\n      <td>WH00006</td>\n      <td>29</td>\n    </tr>\n    <tr>\n      <th>3996</th>\n      <td>3996</td>\n      <td>2019-12-31 17:10:21</td>\n      <td>FC00002</td>\n      <td>WH00003</td>\n      <td>35</td>\n    </tr>\n    <tr>\n      <th>3997</th>\n      <td>3997</td>\n      <td>2019-12-31 19:35:07</td>\n      <td>FC00003</td>\n      <td>WH00001</td>\n      <td>36</td>\n    </tr>\n    <tr>\n      <th>3998</th>\n      <td>3998</td>\n      <td>2019-12-31 21:45:07</td>\n      <td>FC00005</td>\n      <td>WH00005</td>\n      <td>34</td>\n    </tr>\n    <tr>\n      <th>3999</th>\n      <td>3999</td>\n      <td>2019-12-31 23:19:37</td>\n      <td>FC00005</td>\n      <td>WH00005</td>\n      <td>16</td>\n    </tr>\n  </tbody>\n</table>\n<p>4000 rows × 5 columns</p>\n</div>"
     },
     "metadata": {},
     "execution_count": 4
    }
   ],
   "source": [
    "trans = pd.read_csv('tbl_transaction.csv')\n",
    "trans"
   ]
  },
  {
   "cell_type": "code",
   "execution_count": 11,
   "metadata": {},
   "outputs": [
    {
     "output_type": "execute_result",
     "data": {
      "text/plain": "      TRID      TransactionDate     ToFC   FromWH  Quantity  RCostID     FCID  \\\n0        0  2019-01-01 02:11:10  FC00004  WH00003        33       12  FC00004   \n1        1  2019-01-01 06:12:42  FC00007  WH00006        19       21  FC00007   \n2        2  2019-01-01 06:32:32  FC00006  WH00004        31       16  FC00006   \n3        3  2019-01-01 07:17:06  FC00002  WH00003        18        6  FC00002   \n4        4  2019-01-01 07:52:18  FC00001  WH00002        30        2  FC00001   \n...    ...                  ...      ...      ...       ...      ...      ...   \n3995  3995  2019-12-31 11:27:51  FC00007  WH00006        29       21  FC00007   \n3996  3996  2019-12-31 17:10:21  FC00002  WH00003        35        6  FC00002   \n3997  3997  2019-12-31 19:35:07  FC00003  WH00001        36        7  FC00003   \n3998  3998  2019-12-31 21:45:07  FC00005  WH00005        34       14  FC00005   \n3999  3999  2019-12-31 23:19:37  FC00005  WH00005        16       14  FC00005   \n\n         WHID  Cost  \n0     WH00003   1.1  \n1     WH00006   1.3  \n2     WH00004   0.9  \n3     WH00003   1.6  \n4     WH00002   0.8  \n...       ...   ...  \n3995  WH00006   1.3  \n3996  WH00003   1.6  \n3997  WH00001   1.2  \n3998  WH00005   0.3  \n3999  WH00005   0.3  \n\n[4000 rows x 9 columns]",
      "text/html": "<div>\n<style scoped>\n    .dataframe tbody tr th:only-of-type {\n        vertical-align: middle;\n    }\n\n    .dataframe tbody tr th {\n        vertical-align: top;\n    }\n\n    .dataframe thead th {\n        text-align: right;\n    }\n</style>\n<table border=\"1\" class=\"dataframe\">\n  <thead>\n    <tr style=\"text-align: right;\">\n      <th></th>\n      <th>TRID</th>\n      <th>TransactionDate</th>\n      <th>ToFC</th>\n      <th>FromWH</th>\n      <th>Quantity</th>\n      <th>RCostID</th>\n      <th>FCID</th>\n      <th>WHID</th>\n      <th>Cost</th>\n    </tr>\n  </thead>\n  <tbody>\n    <tr>\n      <th>0</th>\n      <td>0</td>\n      <td>2019-01-01 02:11:10</td>\n      <td>FC00004</td>\n      <td>WH00003</td>\n      <td>33</td>\n      <td>12</td>\n      <td>FC00004</td>\n      <td>WH00003</td>\n      <td>1.1</td>\n    </tr>\n    <tr>\n      <th>1</th>\n      <td>1</td>\n      <td>2019-01-01 06:12:42</td>\n      <td>FC00007</td>\n      <td>WH00006</td>\n      <td>19</td>\n      <td>21</td>\n      <td>FC00007</td>\n      <td>WH00006</td>\n      <td>1.3</td>\n    </tr>\n    <tr>\n      <th>2</th>\n      <td>2</td>\n      <td>2019-01-01 06:32:32</td>\n      <td>FC00006</td>\n      <td>WH00004</td>\n      <td>31</td>\n      <td>16</td>\n      <td>FC00006</td>\n      <td>WH00004</td>\n      <td>0.9</td>\n    </tr>\n    <tr>\n      <th>3</th>\n      <td>3</td>\n      <td>2019-01-01 07:17:06</td>\n      <td>FC00002</td>\n      <td>WH00003</td>\n      <td>18</td>\n      <td>6</td>\n      <td>FC00002</td>\n      <td>WH00003</td>\n      <td>1.6</td>\n    </tr>\n    <tr>\n      <th>4</th>\n      <td>4</td>\n      <td>2019-01-01 07:52:18</td>\n      <td>FC00001</td>\n      <td>WH00002</td>\n      <td>30</td>\n      <td>2</td>\n      <td>FC00001</td>\n      <td>WH00002</td>\n      <td>0.8</td>\n    </tr>\n    <tr>\n      <th>...</th>\n      <td>...</td>\n      <td>...</td>\n      <td>...</td>\n      <td>...</td>\n      <td>...</td>\n      <td>...</td>\n      <td>...</td>\n      <td>...</td>\n      <td>...</td>\n    </tr>\n    <tr>\n      <th>3995</th>\n      <td>3995</td>\n      <td>2019-12-31 11:27:51</td>\n      <td>FC00007</td>\n      <td>WH00006</td>\n      <td>29</td>\n      <td>21</td>\n      <td>FC00007</td>\n      <td>WH00006</td>\n      <td>1.3</td>\n    </tr>\n    <tr>\n      <th>3996</th>\n      <td>3996</td>\n      <td>2019-12-31 17:10:21</td>\n      <td>FC00002</td>\n      <td>WH00003</td>\n      <td>35</td>\n      <td>6</td>\n      <td>FC00002</td>\n      <td>WH00003</td>\n      <td>1.6</td>\n    </tr>\n    <tr>\n      <th>3997</th>\n      <td>3997</td>\n      <td>2019-12-31 19:35:07</td>\n      <td>FC00003</td>\n      <td>WH00001</td>\n      <td>36</td>\n      <td>7</td>\n      <td>FC00003</td>\n      <td>WH00001</td>\n      <td>1.2</td>\n    </tr>\n    <tr>\n      <th>3998</th>\n      <td>3998</td>\n      <td>2019-12-31 21:45:07</td>\n      <td>FC00005</td>\n      <td>WH00005</td>\n      <td>34</td>\n      <td>14</td>\n      <td>FC00005</td>\n      <td>WH00005</td>\n      <td>0.3</td>\n    </tr>\n    <tr>\n      <th>3999</th>\n      <td>3999</td>\n      <td>2019-12-31 23:19:37</td>\n      <td>FC00005</td>\n      <td>WH00005</td>\n      <td>16</td>\n      <td>14</td>\n      <td>FC00005</td>\n      <td>WH00005</td>\n      <td>0.3</td>\n    </tr>\n  </tbody>\n</table>\n<p>4000 rows × 9 columns</p>\n</div>"
     },
     "metadata": {},
     "execution_count": 11
    }
   ],
   "source": [
    "join_data1 = pd.merge(trans, cost, left_on=['ToFC', 'FromWH'], \n",
    "                    right_on=['FCID', 'WHID'], how='left')\n",
    "join_data1"
   ]
  },
  {
   "cell_type": "code",
   "execution_count": 6,
   "metadata": {},
   "outputs": [
    {
     "output_type": "execute_result",
     "data": {
      "text/plain": "      TRID      TransactionDate     ToFC   FromWH  Quantity  RCostID   FCID_x  \\\n0        0  2019-01-01 02:11:10  FC00004  WH00003        33       12  FC00004   \n1        1  2019-01-01 06:12:42  FC00007  WH00006        19       21  FC00007   \n2        2  2019-01-01 06:32:32  FC00006  WH00004        31       16  FC00006   \n3        3  2019-01-01 07:17:06  FC00002  WH00003        18        6  FC00002   \n4        4  2019-01-01 07:52:18  FC00001  WH00002        30        2  FC00001   \n...    ...                  ...      ...      ...       ...      ...      ...   \n3995  3995  2019-12-31 11:27:51  FC00007  WH00006        29       21  FC00007   \n3996  3996  2019-12-31 17:10:21  FC00002  WH00003        35        6  FC00002   \n3997  3997  2019-12-31 19:35:07  FC00003  WH00001        36        7  FC00003   \n3998  3998  2019-12-31 21:45:07  FC00005  WH00005        34       14  FC00005   \n3999  3999  2019-12-31 23:19:37  FC00005  WH00005        16       14  FC00005   \n\n         WHID  Cost   FCID_y FCName  FCDemand FCRegion  \n0     WH00003   1.1  FC00004  横須賀工場        25       関東  \n1     WH00006   1.3  FC00007   那須工場        25       東北  \n2     WH00004   0.9  FC00006   山形工場        30       東北  \n3     WH00003   1.6  FC00002  木更津工場        29       関東  \n4     WH00002   0.8  FC00001   東京工場        28       関東  \n...       ...   ...      ...    ...       ...      ...  \n3995  WH00006   1.3  FC00007   那須工場        25       東北  \n3996  WH00003   1.6  FC00002  木更津工場        29       関東  \n3997  WH00001   1.2  FC00003   多摩工場        31       関東  \n3998  WH00005   0.3  FC00005   仙台工場        21       東北  \n3999  WH00005   0.3  FC00005   仙台工場        21       東北  \n\n[4000 rows x 13 columns]",
      "text/html": "<div>\n<style scoped>\n    .dataframe tbody tr th:only-of-type {\n        vertical-align: middle;\n    }\n\n    .dataframe tbody tr th {\n        vertical-align: top;\n    }\n\n    .dataframe thead th {\n        text-align: right;\n    }\n</style>\n<table border=\"1\" class=\"dataframe\">\n  <thead>\n    <tr style=\"text-align: right;\">\n      <th></th>\n      <th>TRID</th>\n      <th>TransactionDate</th>\n      <th>ToFC</th>\n      <th>FromWH</th>\n      <th>Quantity</th>\n      <th>RCostID</th>\n      <th>FCID_x</th>\n      <th>WHID</th>\n      <th>Cost</th>\n      <th>FCID_y</th>\n      <th>FCName</th>\n      <th>FCDemand</th>\n      <th>FCRegion</th>\n    </tr>\n  </thead>\n  <tbody>\n    <tr>\n      <th>0</th>\n      <td>0</td>\n      <td>2019-01-01 02:11:10</td>\n      <td>FC00004</td>\n      <td>WH00003</td>\n      <td>33</td>\n      <td>12</td>\n      <td>FC00004</td>\n      <td>WH00003</td>\n      <td>1.1</td>\n      <td>FC00004</td>\n      <td>横須賀工場</td>\n      <td>25</td>\n      <td>関東</td>\n    </tr>\n    <tr>\n      <th>1</th>\n      <td>1</td>\n      <td>2019-01-01 06:12:42</td>\n      <td>FC00007</td>\n      <td>WH00006</td>\n      <td>19</td>\n      <td>21</td>\n      <td>FC00007</td>\n      <td>WH00006</td>\n      <td>1.3</td>\n      <td>FC00007</td>\n      <td>那須工場</td>\n      <td>25</td>\n      <td>東北</td>\n    </tr>\n    <tr>\n      <th>2</th>\n      <td>2</td>\n      <td>2019-01-01 06:32:32</td>\n      <td>FC00006</td>\n      <td>WH00004</td>\n      <td>31</td>\n      <td>16</td>\n      <td>FC00006</td>\n      <td>WH00004</td>\n      <td>0.9</td>\n      <td>FC00006</td>\n      <td>山形工場</td>\n      <td>30</td>\n      <td>東北</td>\n    </tr>\n    <tr>\n      <th>3</th>\n      <td>3</td>\n      <td>2019-01-01 07:17:06</td>\n      <td>FC00002</td>\n      <td>WH00003</td>\n      <td>18</td>\n      <td>6</td>\n      <td>FC00002</td>\n      <td>WH00003</td>\n      <td>1.6</td>\n      <td>FC00002</td>\n      <td>木更津工場</td>\n      <td>29</td>\n      <td>関東</td>\n    </tr>\n    <tr>\n      <th>4</th>\n      <td>4</td>\n      <td>2019-01-01 07:52:18</td>\n      <td>FC00001</td>\n      <td>WH00002</td>\n      <td>30</td>\n      <td>2</td>\n      <td>FC00001</td>\n      <td>WH00002</td>\n      <td>0.8</td>\n      <td>FC00001</td>\n      <td>東京工場</td>\n      <td>28</td>\n      <td>関東</td>\n    </tr>\n    <tr>\n      <th>...</th>\n      <td>...</td>\n      <td>...</td>\n      <td>...</td>\n      <td>...</td>\n      <td>...</td>\n      <td>...</td>\n      <td>...</td>\n      <td>...</td>\n      <td>...</td>\n      <td>...</td>\n      <td>...</td>\n      <td>...</td>\n      <td>...</td>\n    </tr>\n    <tr>\n      <th>3995</th>\n      <td>3995</td>\n      <td>2019-12-31 11:27:51</td>\n      <td>FC00007</td>\n      <td>WH00006</td>\n      <td>29</td>\n      <td>21</td>\n      <td>FC00007</td>\n      <td>WH00006</td>\n      <td>1.3</td>\n      <td>FC00007</td>\n      <td>那須工場</td>\n      <td>25</td>\n      <td>東北</td>\n    </tr>\n    <tr>\n      <th>3996</th>\n      <td>3996</td>\n      <td>2019-12-31 17:10:21</td>\n      <td>FC00002</td>\n      <td>WH00003</td>\n      <td>35</td>\n      <td>6</td>\n      <td>FC00002</td>\n      <td>WH00003</td>\n      <td>1.6</td>\n      <td>FC00002</td>\n      <td>木更津工場</td>\n      <td>29</td>\n      <td>関東</td>\n    </tr>\n    <tr>\n      <th>3997</th>\n      <td>3997</td>\n      <td>2019-12-31 19:35:07</td>\n      <td>FC00003</td>\n      <td>WH00001</td>\n      <td>36</td>\n      <td>7</td>\n      <td>FC00003</td>\n      <td>WH00001</td>\n      <td>1.2</td>\n      <td>FC00003</td>\n      <td>多摩工場</td>\n      <td>31</td>\n      <td>関東</td>\n    </tr>\n    <tr>\n      <th>3998</th>\n      <td>3998</td>\n      <td>2019-12-31 21:45:07</td>\n      <td>FC00005</td>\n      <td>WH00005</td>\n      <td>34</td>\n      <td>14</td>\n      <td>FC00005</td>\n      <td>WH00005</td>\n      <td>0.3</td>\n      <td>FC00005</td>\n      <td>仙台工場</td>\n      <td>21</td>\n      <td>東北</td>\n    </tr>\n    <tr>\n      <th>3999</th>\n      <td>3999</td>\n      <td>2019-12-31 23:19:37</td>\n      <td>FC00005</td>\n      <td>WH00005</td>\n      <td>16</td>\n      <td>14</td>\n      <td>FC00005</td>\n      <td>WH00005</td>\n      <td>0.3</td>\n      <td>FC00005</td>\n      <td>仙台工場</td>\n      <td>21</td>\n      <td>東北</td>\n    </tr>\n  </tbody>\n</table>\n<p>4000 rows × 13 columns</p>\n</div>"
     },
     "metadata": {},
     "execution_count": 6
    }
   ],
   "source": [
    "join_data2  = pd.merge(join_data1, factories, left_on='ToFC', right_on='FCID',\n",
    "                        how='left')\n",
    "join_data2"
   ]
  },
  {
   "cell_type": "code",
   "execution_count": 13,
   "metadata": {},
   "outputs": [
    {
     "output_type": "execute_result",
     "data": {
      "text/plain": "          TransactionDate  Quantity  Cost     ToFC FCName  FCDemand   FromWH  \\\n0     2019-01-01 02:11:10        33   1.1  FC00004  横須賀工場        25  WH00003   \n1     2019-01-01 06:12:42        19   1.3  FC00007   那須工場        25  WH00006   \n2     2019-01-01 06:32:32        31   0.9  FC00006   山形工場        30  WH00004   \n3     2019-01-01 07:17:06        18   1.6  FC00002  木更津工場        29  WH00003   \n4     2019-01-01 07:52:18        30   0.8  FC00001   東京工場        28  WH00002   \n...                   ...       ...   ...      ...    ...       ...      ...   \n3995  2019-12-31 11:27:51        29   1.3  FC00007   那須工場        25  WH00006   \n3996  2019-12-31 17:10:21        35   1.6  FC00002  木更津工場        29  WH00003   \n3997  2019-12-31 19:35:07        36   1.2  FC00003   多摩工場        31  WH00001   \n3998  2019-12-31 21:45:07        34   0.3  FC00005   仙台工場        21  WH00005   \n3999  2019-12-31 23:19:37        16   0.3  FC00005   仙台工場        21  WH00005   \n\n     WHName  WHSupply WHRegion  \n0      豊洲倉庫        42       関東  \n1      山形倉庫        65       東北  \n2      郡山倉庫        60       東北  \n3      豊洲倉庫        42       関東  \n4      品川倉庫        41       関東  \n...     ...       ...      ...  \n3995   山形倉庫        65       東北  \n3996   豊洲倉庫        42       関東  \n3997   杉並倉庫        35       関東  \n3998   仙台倉庫        72       東北  \n3999   仙台倉庫        72       東北  \n\n[4000 rows x 10 columns]",
      "text/html": "<div>\n<style scoped>\n    .dataframe tbody tr th:only-of-type {\n        vertical-align: middle;\n    }\n\n    .dataframe tbody tr th {\n        vertical-align: top;\n    }\n\n    .dataframe thead th {\n        text-align: right;\n    }\n</style>\n<table border=\"1\" class=\"dataframe\">\n  <thead>\n    <tr style=\"text-align: right;\">\n      <th></th>\n      <th>TransactionDate</th>\n      <th>Quantity</th>\n      <th>Cost</th>\n      <th>ToFC</th>\n      <th>FCName</th>\n      <th>FCDemand</th>\n      <th>FromWH</th>\n      <th>WHName</th>\n      <th>WHSupply</th>\n      <th>WHRegion</th>\n    </tr>\n  </thead>\n  <tbody>\n    <tr>\n      <th>0</th>\n      <td>2019-01-01 02:11:10</td>\n      <td>33</td>\n      <td>1.1</td>\n      <td>FC00004</td>\n      <td>横須賀工場</td>\n      <td>25</td>\n      <td>WH00003</td>\n      <td>豊洲倉庫</td>\n      <td>42</td>\n      <td>関東</td>\n    </tr>\n    <tr>\n      <th>1</th>\n      <td>2019-01-01 06:12:42</td>\n      <td>19</td>\n      <td>1.3</td>\n      <td>FC00007</td>\n      <td>那須工場</td>\n      <td>25</td>\n      <td>WH00006</td>\n      <td>山形倉庫</td>\n      <td>65</td>\n      <td>東北</td>\n    </tr>\n    <tr>\n      <th>2</th>\n      <td>2019-01-01 06:32:32</td>\n      <td>31</td>\n      <td>0.9</td>\n      <td>FC00006</td>\n      <td>山形工場</td>\n      <td>30</td>\n      <td>WH00004</td>\n      <td>郡山倉庫</td>\n      <td>60</td>\n      <td>東北</td>\n    </tr>\n    <tr>\n      <th>3</th>\n      <td>2019-01-01 07:17:06</td>\n      <td>18</td>\n      <td>1.6</td>\n      <td>FC00002</td>\n      <td>木更津工場</td>\n      <td>29</td>\n      <td>WH00003</td>\n      <td>豊洲倉庫</td>\n      <td>42</td>\n      <td>関東</td>\n    </tr>\n    <tr>\n      <th>4</th>\n      <td>2019-01-01 07:52:18</td>\n      <td>30</td>\n      <td>0.8</td>\n      <td>FC00001</td>\n      <td>東京工場</td>\n      <td>28</td>\n      <td>WH00002</td>\n      <td>品川倉庫</td>\n      <td>41</td>\n      <td>関東</td>\n    </tr>\n    <tr>\n      <th>...</th>\n      <td>...</td>\n      <td>...</td>\n      <td>...</td>\n      <td>...</td>\n      <td>...</td>\n      <td>...</td>\n      <td>...</td>\n      <td>...</td>\n      <td>...</td>\n      <td>...</td>\n    </tr>\n    <tr>\n      <th>3995</th>\n      <td>2019-12-31 11:27:51</td>\n      <td>29</td>\n      <td>1.3</td>\n      <td>FC00007</td>\n      <td>那須工場</td>\n      <td>25</td>\n      <td>WH00006</td>\n      <td>山形倉庫</td>\n      <td>65</td>\n      <td>東北</td>\n    </tr>\n    <tr>\n      <th>3996</th>\n      <td>2019-12-31 17:10:21</td>\n      <td>35</td>\n      <td>1.6</td>\n      <td>FC00002</td>\n      <td>木更津工場</td>\n      <td>29</td>\n      <td>WH00003</td>\n      <td>豊洲倉庫</td>\n      <td>42</td>\n      <td>関東</td>\n    </tr>\n    <tr>\n      <th>3997</th>\n      <td>2019-12-31 19:35:07</td>\n      <td>36</td>\n      <td>1.2</td>\n      <td>FC00003</td>\n      <td>多摩工場</td>\n      <td>31</td>\n      <td>WH00001</td>\n      <td>杉並倉庫</td>\n      <td>35</td>\n      <td>関東</td>\n    </tr>\n    <tr>\n      <th>3998</th>\n      <td>2019-12-31 21:45:07</td>\n      <td>34</td>\n      <td>0.3</td>\n      <td>FC00005</td>\n      <td>仙台工場</td>\n      <td>21</td>\n      <td>WH00005</td>\n      <td>仙台倉庫</td>\n      <td>72</td>\n      <td>東北</td>\n    </tr>\n    <tr>\n      <th>3999</th>\n      <td>2019-12-31 23:19:37</td>\n      <td>16</td>\n      <td>0.3</td>\n      <td>FC00005</td>\n      <td>仙台工場</td>\n      <td>21</td>\n      <td>WH00005</td>\n      <td>仙台倉庫</td>\n      <td>72</td>\n      <td>東北</td>\n    </tr>\n  </tbody>\n</table>\n<p>4000 rows × 10 columns</p>\n</div>"
     },
     "metadata": {},
     "execution_count": 13
    }
   ],
   "source": [
    "join_data3 = pd.merge(join_data2, warehouses, left_on='FromWH', right_on='WHID',\n",
    "                        how='left')\n",
    "join_data3 = join_data3[['TransactionDate', 'Quantity', 'Cost', 'ToFC', 'FCName',\n",
    "                        'FCDemand', 'FromWH', 'WHName', 'WHSupply', 'WHRegion']]\n",
    "join_data3"
   ]
  },
  {
   "cell_type": "code",
   "execution_count": 14,
   "metadata": {},
   "outputs": [
    {
     "output_type": "execute_result",
     "data": {
      "text/plain": "          TransactionDate  Quantity  Cost     ToFC FCName  FCDemand   FromWH  \\\n0     2019-01-01 02:11:10        33   1.1  FC00004  横須賀工場        25  WH00003   \n3     2019-01-01 07:17:06        18   1.6  FC00002  木更津工場        29  WH00003   \n4     2019-01-01 07:52:18        30   0.8  FC00001   東京工場        28  WH00002   \n7     2019-01-01 09:09:30        12   1.5  FC00001   東京工場        28  WH00003   \n8     2019-01-01 10:52:55        27   1.5  FC00003   多摩工場        31  WH00003   \n...                   ...       ...   ...      ...    ...       ...      ...   \n3984  2019-12-30 12:29:42        22   0.9  FC00002  木更津工場        29  WH00001   \n3987  2019-12-30 17:51:24        32   1.3  FC00003   多摩工場        31  WH00002   \n3992  2019-12-31 01:50:16        33   0.8  FC00001   東京工場        28  WH00002   \n3996  2019-12-31 17:10:21        35   1.6  FC00002  木更津工場        29  WH00003   \n3997  2019-12-31 19:35:07        36   1.2  FC00003   多摩工場        31  WH00001   \n\n     WHName  WHSupply WHRegion  \n0      豊洲倉庫        42       関東  \n3      豊洲倉庫        42       関東  \n4      品川倉庫        41       関東  \n7      豊洲倉庫        42       関東  \n8      豊洲倉庫        42       関東  \n...     ...       ...      ...  \n3984   杉並倉庫        35       関東  \n3987   品川倉庫        41       関東  \n3992   品川倉庫        41       関東  \n3996   豊洲倉庫        42       関東  \n3997   杉並倉庫        35       関東  \n\n[2000 rows x 10 columns]",
      "text/html": "<div>\n<style scoped>\n    .dataframe tbody tr th:only-of-type {\n        vertical-align: middle;\n    }\n\n    .dataframe tbody tr th {\n        vertical-align: top;\n    }\n\n    .dataframe thead th {\n        text-align: right;\n    }\n</style>\n<table border=\"1\" class=\"dataframe\">\n  <thead>\n    <tr style=\"text-align: right;\">\n      <th></th>\n      <th>TransactionDate</th>\n      <th>Quantity</th>\n      <th>Cost</th>\n      <th>ToFC</th>\n      <th>FCName</th>\n      <th>FCDemand</th>\n      <th>FromWH</th>\n      <th>WHName</th>\n      <th>WHSupply</th>\n      <th>WHRegion</th>\n    </tr>\n  </thead>\n  <tbody>\n    <tr>\n      <th>0</th>\n      <td>2019-01-01 02:11:10</td>\n      <td>33</td>\n      <td>1.1</td>\n      <td>FC00004</td>\n      <td>横須賀工場</td>\n      <td>25</td>\n      <td>WH00003</td>\n      <td>豊洲倉庫</td>\n      <td>42</td>\n      <td>関東</td>\n    </tr>\n    <tr>\n      <th>3</th>\n      <td>2019-01-01 07:17:06</td>\n      <td>18</td>\n      <td>1.6</td>\n      <td>FC00002</td>\n      <td>木更津工場</td>\n      <td>29</td>\n      <td>WH00003</td>\n      <td>豊洲倉庫</td>\n      <td>42</td>\n      <td>関東</td>\n    </tr>\n    <tr>\n      <th>4</th>\n      <td>2019-01-01 07:52:18</td>\n      <td>30</td>\n      <td>0.8</td>\n      <td>FC00001</td>\n      <td>東京工場</td>\n      <td>28</td>\n      <td>WH00002</td>\n      <td>品川倉庫</td>\n      <td>41</td>\n      <td>関東</td>\n    </tr>\n    <tr>\n      <th>7</th>\n      <td>2019-01-01 09:09:30</td>\n      <td>12</td>\n      <td>1.5</td>\n      <td>FC00001</td>\n      <td>東京工場</td>\n      <td>28</td>\n      <td>WH00003</td>\n      <td>豊洲倉庫</td>\n      <td>42</td>\n      <td>関東</td>\n    </tr>\n    <tr>\n      <th>8</th>\n      <td>2019-01-01 10:52:55</td>\n      <td>27</td>\n      <td>1.5</td>\n      <td>FC00003</td>\n      <td>多摩工場</td>\n      <td>31</td>\n      <td>WH00003</td>\n      <td>豊洲倉庫</td>\n      <td>42</td>\n      <td>関東</td>\n    </tr>\n    <tr>\n      <th>...</th>\n      <td>...</td>\n      <td>...</td>\n      <td>...</td>\n      <td>...</td>\n      <td>...</td>\n      <td>...</td>\n      <td>...</td>\n      <td>...</td>\n      <td>...</td>\n      <td>...</td>\n    </tr>\n    <tr>\n      <th>3984</th>\n      <td>2019-12-30 12:29:42</td>\n      <td>22</td>\n      <td>0.9</td>\n      <td>FC00002</td>\n      <td>木更津工場</td>\n      <td>29</td>\n      <td>WH00001</td>\n      <td>杉並倉庫</td>\n      <td>35</td>\n      <td>関東</td>\n    </tr>\n    <tr>\n      <th>3987</th>\n      <td>2019-12-30 17:51:24</td>\n      <td>32</td>\n      <td>1.3</td>\n      <td>FC00003</td>\n      <td>多摩工場</td>\n      <td>31</td>\n      <td>WH00002</td>\n      <td>品川倉庫</td>\n      <td>41</td>\n      <td>関東</td>\n    </tr>\n    <tr>\n      <th>3992</th>\n      <td>2019-12-31 01:50:16</td>\n      <td>33</td>\n      <td>0.8</td>\n      <td>FC00001</td>\n      <td>東京工場</td>\n      <td>28</td>\n      <td>WH00002</td>\n      <td>品川倉庫</td>\n      <td>41</td>\n      <td>関東</td>\n    </tr>\n    <tr>\n      <th>3996</th>\n      <td>2019-12-31 17:10:21</td>\n      <td>35</td>\n      <td>1.6</td>\n      <td>FC00002</td>\n      <td>木更津工場</td>\n      <td>29</td>\n      <td>WH00003</td>\n      <td>豊洲倉庫</td>\n      <td>42</td>\n      <td>関東</td>\n    </tr>\n    <tr>\n      <th>3997</th>\n      <td>2019-12-31 19:35:07</td>\n      <td>36</td>\n      <td>1.2</td>\n      <td>FC00003</td>\n      <td>多摩工場</td>\n      <td>31</td>\n      <td>WH00001</td>\n      <td>杉並倉庫</td>\n      <td>35</td>\n      <td>関東</td>\n    </tr>\n  </tbody>\n</table>\n<p>2000 rows × 10 columns</p>\n</div>"
     },
     "metadata": {},
     "execution_count": 14
    }
   ],
   "source": [
    "# kanto area\n",
    "kanto = join_data3.loc[join_data3['WHRegion'] == '関東']\n",
    "kanto"
   ]
  },
  {
   "cell_type": "code",
   "execution_count": 15,
   "metadata": {},
   "outputs": [
    {
     "output_type": "execute_result",
     "data": {
      "text/plain": "          TransactionDate  Quantity  Cost     ToFC FCName  FCDemand   FromWH  \\\n1     2019-01-01 06:12:42        19   1.3  FC00007   那須工場        25  WH00006   \n2     2019-01-01 06:32:32        31   0.9  FC00006   山形工場        30  WH00004   \n5     2019-01-01 08:56:09        31   0.3  FC00005   仙台工場        21  WH00005   \n6     2019-01-01 09:00:15        33   0.7  FC00006   山形工場        30  WH00006   \n9     2019-01-01 14:12:51        21   0.7  FC00006   山形工場        30  WH00006   \n...                   ...       ...   ...      ...    ...       ...      ...   \n3993  2019-12-31 03:35:04        20   0.7  FC00006   山形工場        30  WH00006   \n3994  2019-12-31 07:05:56        11   0.8  FC00005   仙台工場        21  WH00004   \n3995  2019-12-31 11:27:51        29   1.3  FC00007   那須工場        25  WH00006   \n3998  2019-12-31 21:45:07        34   0.3  FC00005   仙台工場        21  WH00005   \n3999  2019-12-31 23:19:37        16   0.3  FC00005   仙台工場        21  WH00005   \n\n     WHName  WHSupply WHRegion  \n1      山形倉庫        65       東北  \n2      郡山倉庫        60       東北  \n5      仙台倉庫        72       東北  \n6      山形倉庫        65       東北  \n9      山形倉庫        65       東北  \n...     ...       ...      ...  \n3993   山形倉庫        65       東北  \n3994   郡山倉庫        60       東北  \n3995   山形倉庫        65       東北  \n3998   仙台倉庫        72       東北  \n3999   仙台倉庫        72       東北  \n\n[2000 rows x 10 columns]",
      "text/html": "<div>\n<style scoped>\n    .dataframe tbody tr th:only-of-type {\n        vertical-align: middle;\n    }\n\n    .dataframe tbody tr th {\n        vertical-align: top;\n    }\n\n    .dataframe thead th {\n        text-align: right;\n    }\n</style>\n<table border=\"1\" class=\"dataframe\">\n  <thead>\n    <tr style=\"text-align: right;\">\n      <th></th>\n      <th>TransactionDate</th>\n      <th>Quantity</th>\n      <th>Cost</th>\n      <th>ToFC</th>\n      <th>FCName</th>\n      <th>FCDemand</th>\n      <th>FromWH</th>\n      <th>WHName</th>\n      <th>WHSupply</th>\n      <th>WHRegion</th>\n    </tr>\n  </thead>\n  <tbody>\n    <tr>\n      <th>1</th>\n      <td>2019-01-01 06:12:42</td>\n      <td>19</td>\n      <td>1.3</td>\n      <td>FC00007</td>\n      <td>那須工場</td>\n      <td>25</td>\n      <td>WH00006</td>\n      <td>山形倉庫</td>\n      <td>65</td>\n      <td>東北</td>\n    </tr>\n    <tr>\n      <th>2</th>\n      <td>2019-01-01 06:32:32</td>\n      <td>31</td>\n      <td>0.9</td>\n      <td>FC00006</td>\n      <td>山形工場</td>\n      <td>30</td>\n      <td>WH00004</td>\n      <td>郡山倉庫</td>\n      <td>60</td>\n      <td>東北</td>\n    </tr>\n    <tr>\n      <th>5</th>\n      <td>2019-01-01 08:56:09</td>\n      <td>31</td>\n      <td>0.3</td>\n      <td>FC00005</td>\n      <td>仙台工場</td>\n      <td>21</td>\n      <td>WH00005</td>\n      <td>仙台倉庫</td>\n      <td>72</td>\n      <td>東北</td>\n    </tr>\n    <tr>\n      <th>6</th>\n      <td>2019-01-01 09:00:15</td>\n      <td>33</td>\n      <td>0.7</td>\n      <td>FC00006</td>\n      <td>山形工場</td>\n      <td>30</td>\n      <td>WH00006</td>\n      <td>山形倉庫</td>\n      <td>65</td>\n      <td>東北</td>\n    </tr>\n    <tr>\n      <th>9</th>\n      <td>2019-01-01 14:12:51</td>\n      <td>21</td>\n      <td>0.7</td>\n      <td>FC00006</td>\n      <td>山形工場</td>\n      <td>30</td>\n      <td>WH00006</td>\n      <td>山形倉庫</td>\n      <td>65</td>\n      <td>東北</td>\n    </tr>\n    <tr>\n      <th>...</th>\n      <td>...</td>\n      <td>...</td>\n      <td>...</td>\n      <td>...</td>\n      <td>...</td>\n      <td>...</td>\n      <td>...</td>\n      <td>...</td>\n      <td>...</td>\n      <td>...</td>\n    </tr>\n    <tr>\n      <th>3993</th>\n      <td>2019-12-31 03:35:04</td>\n      <td>20</td>\n      <td>0.7</td>\n      <td>FC00006</td>\n      <td>山形工場</td>\n      <td>30</td>\n      <td>WH00006</td>\n      <td>山形倉庫</td>\n      <td>65</td>\n      <td>東北</td>\n    </tr>\n    <tr>\n      <th>3994</th>\n      <td>2019-12-31 07:05:56</td>\n      <td>11</td>\n      <td>0.8</td>\n      <td>FC00005</td>\n      <td>仙台工場</td>\n      <td>21</td>\n      <td>WH00004</td>\n      <td>郡山倉庫</td>\n      <td>60</td>\n      <td>東北</td>\n    </tr>\n    <tr>\n      <th>3995</th>\n      <td>2019-12-31 11:27:51</td>\n      <td>29</td>\n      <td>1.3</td>\n      <td>FC00007</td>\n      <td>那須工場</td>\n      <td>25</td>\n      <td>WH00006</td>\n      <td>山形倉庫</td>\n      <td>65</td>\n      <td>東北</td>\n    </tr>\n    <tr>\n      <th>3998</th>\n      <td>2019-12-31 21:45:07</td>\n      <td>34</td>\n      <td>0.3</td>\n      <td>FC00005</td>\n      <td>仙台工場</td>\n      <td>21</td>\n      <td>WH00005</td>\n      <td>仙台倉庫</td>\n      <td>72</td>\n      <td>東北</td>\n    </tr>\n    <tr>\n      <th>3999</th>\n      <td>2019-12-31 23:19:37</td>\n      <td>16</td>\n      <td>0.3</td>\n      <td>FC00005</td>\n      <td>仙台工場</td>\n      <td>21</td>\n      <td>WH00005</td>\n      <td>仙台倉庫</td>\n      <td>72</td>\n      <td>東北</td>\n    </tr>\n  </tbody>\n</table>\n<p>2000 rows × 10 columns</p>\n</div>"
     },
     "metadata": {},
     "execution_count": 15
    }
   ],
   "source": [
    "# tohoku area\n",
    "tohoku = join_data3.loc[join_data3['WHRegion'] == '東北']\n",
    "tohoku"
   ]
  },
  {
   "cell_type": "code",
   "execution_count": 16,
   "metadata": {
    "tags": []
   },
   "outputs": [
    {
     "output_type": "stream",
     "name": "stdout",
     "text": "Total cost of Kanto branch: 2189.3万円\nTotal cost of Tohoku branch: 2062.0万円\n"
    }
   ],
   "source": [
    "# total cost\n",
    "print('Total cost of Kanto branch: ' +str(kanto['Cost'].sum())+ '万円')\n",
    "print('Total cost of Tohoku branch: ' +str(tohoku['Cost'].sum())+ '万円')"
   ]
  },
  {
   "cell_type": "code",
   "execution_count": 17,
   "metadata": {
    "tags": []
   },
   "outputs": [
    {
     "output_type": "stream",
     "name": "stdout",
     "text": "Total quantity of Kanto branch: 49146個\nTotal quantity of Tohoku branch: 50214個\n"
    }
   ],
   "source": [
    "# total quantity\n",
    "print('Total quantity of Kanto branch: ' +str(kanto['Quantity'].sum())+ '個')\n",
    "print('Total quantity of Tohoku branch: ' +str(tohoku['Quantity'].sum())+ '個')"
   ]
  },
  {
   "cell_type": "code",
   "execution_count": 27,
   "metadata": {
    "tags": []
   },
   "outputs": [
    {
     "output_type": "stream",
     "name": "stdout",
     "text": "Cost per item in Kanto: 445.47円\nCost per item in Tohoku: 410.64円\n"
    }
   ],
   "source": [
    "# cost per item\n",
    "cost_per_item = (kanto['Cost'].sum() / kanto['Quantity'].sum()) * 10000\n",
    "print('Cost per item in Kanto: %.2f' %(cost_per_item)+'円')\n",
    "cost_per_item = (tohoku['Cost'].sum() / tohoku['Quantity'].sum()) * 10000\n",
    "print('Cost per item in Tohoku: %.2f' %(cost_per_item)+ '円')"
   ]
  },
  {
   "cell_type": "code",
   "execution_count": 32,
   "metadata": {
    "tags": []
   },
   "outputs": [
    {
     "output_type": "stream",
     "name": "stdout",
     "text": "Kanto aggregate per region: 1.075万円\nTohoku aggregate per region: 1.05万円\n"
    }
   ],
   "source": [
    "# aggregate cost per region\n",
    "cost_fact = pd.merge(cost, factories, on='FCID', how='left')\n",
    "# cost_fact\n",
    "# Average cost per region\n",
    "print('Kanto aggregate per region: ' +str(cost_fact['Cost'].loc[cost_fact['FCRegion']=='関東'].mean())+ '万円')\n",
    "print('Tohoku aggregate per region: ' +str(cost_fact['Cost'].loc[cost_fact['FCRegion']=='東北'].mean())+ '万円')"
   ]
  },
  {
   "cell_type": "markdown",
   "metadata": {},
   "source": [
    "## The Network"
   ]
  },
  {
   "cell_type": "code",
   "execution_count": 33,
   "metadata": {},
   "outputs": [
    {
     "output_type": "display_data",
     "data": {
      "text/plain": "<Figure size 432x288 with 1 Axes>",
      "image/svg+xml": "<?xml version=\"1.0\" encoding=\"utf-8\" standalone=\"no\"?>\n<!DOCTYPE svg PUBLIC \"-//W3C//DTD SVG 1.1//EN\"\n  \"http://www.w3.org/Graphics/SVG/1.1/DTD/svg11.dtd\">\n<!-- Created with matplotlib (https://matplotlib.org/) -->\n<svg height=\"302.4pt\" version=\"1.1\" viewBox=\"0 0 446.4 302.4\" width=\"446.4pt\" xmlns=\"http://www.w3.org/2000/svg\" xmlns:xlink=\"http://www.w3.org/1999/xlink\">\n <metadata>\n  <rdf:RDF xmlns:cc=\"http://creativecommons.org/ns#\" xmlns:dc=\"http://purl.org/dc/elements/1.1/\" xmlns:rdf=\"http://www.w3.org/1999/02/22-rdf-syntax-ns#\">\n   <cc:Work>\n    <dc:type rdf:resource=\"http://purl.org/dc/dcmitype/StillImage\"/>\n    <dc:date>2020-10-13T13:38:43.541214</dc:date>\n    <dc:format>image/svg+xml</dc:format>\n    <dc:creator>\n     <cc:Agent>\n      <dc:title>Matplotlib v3.3.1, https://matplotlib.org/</dc:title>\n     </cc:Agent>\n    </dc:creator>\n   </cc:Work>\n  </rdf:RDF>\n </metadata>\n <defs>\n  <style type=\"text/css\">*{stroke-linecap:butt;stroke-linejoin:round;}</style>\n </defs>\n <g id=\"figure_1\">\n  <g id=\"patch_1\">\n   <path d=\"M 0 302.4 \nL 446.4 302.4 \nL 446.4 0 \nL 0 0 \nz\n\" style=\"fill:#ffffff;\"/>\n  </g>\n  <g id=\"axes_1\">\n   <g id=\"LineCollection_1\">\n    <path clip-path=\"url(#p707d5db831)\" d=\"M 26.836364 282.109091 \nL 419.563636 20.290909 \n\" style=\"fill:none;stroke:#000000;\"/>\n    <path clip-path=\"url(#p707d5db831)\" d=\"M 26.836364 282.109091 \nL 26.836364 20.290909 \n\" style=\"fill:none;stroke:#000000;\"/>\n    <path clip-path=\"url(#p707d5db831)\" d=\"M 419.563636 20.290909 \nL 26.836364 20.290909 \n\" style=\"fill:none;stroke:#000000;\"/>\n   </g>\n   <g id=\"PathCollection_1\">\n    <defs>\n     <path d=\"M 0 8.660254 \nC 2.296726 8.660254 4.499694 7.747755 6.123724 6.123724 \nC 7.747755 4.499694 8.660254 2.296726 8.660254 0 \nC 8.660254 -2.296726 7.747755 -4.499694 6.123724 -6.123724 \nC 4.499694 -7.747755 2.296726 -8.660254 0 -8.660254 \nC -2.296726 -8.660254 -4.499694 -7.747755 -6.123724 -6.123724 \nC -7.747755 -4.499694 -8.660254 -2.296726 -8.660254 0 \nC -8.660254 2.296726 -7.747755 4.499694 -6.123724 6.123724 \nC -4.499694 7.747755 -2.296726 8.660254 0 8.660254 \nz\n\" id=\"mb31b24d699\" style=\"stroke:#1f78b4;\"/>\n    </defs>\n    <g clip-path=\"url(#p707d5db831)\">\n     <use style=\"fill:#1f78b4;stroke:#1f78b4;\" x=\"26.836364\" xlink:href=\"#mb31b24d699\" y=\"282.109091\"/>\n     <use style=\"fill:#1f78b4;stroke:#1f78b4;\" x=\"419.563636\" xlink:href=\"#mb31b24d699\" y=\"20.290909\"/>\n     <use style=\"fill:#1f78b4;stroke:#1f78b4;\" x=\"26.836364\" xlink:href=\"#mb31b24d699\" y=\"20.290909\"/>\n    </g>\n   </g>\n  </g>\n </g>\n <defs>\n  <clipPath id=\"p707d5db831\">\n   <rect height=\"288\" width=\"432\" x=\"7.2\" y=\"7.2\"/>\n  </clipPath>\n </defs>\n</svg>\n",
      "image/png": "[encoded data removed]"
     },
     "metadata": {}
    }
   ],
   "source": [
    "import networkx as nx\n",
    "import matplotlib.pyplot as plt \n",
    "\n",
    "G = nx.Graph()\n",
    "\n",
    "# verteces\n",
    "G.add_node('nodeA')\n",
    "G.add_node('nodeB')\n",
    "G.add_node('nodeC')\n",
    "# edges\n",
    "G.add_edge('nodeA', 'nodeB')\n",
    "G.add_edge('nodeA', 'nodeC')\n",
    "G.add_edge('nodeB', 'nodeC')\n",
    "# coordinates\n",
    "pos = {}\n",
    "pos['nodeA'] = (0,0)\n",
    "pos['nodeB'] = (1,1)\n",
    "pos['nodeC'] = (0,1)\n",
    "# display\n",
    "nx.draw(G, pos)\n",
    "plt.show()"
   ]
  },
  {
   "cell_type": "code",
   "execution_count": 35,
   "metadata": {},
   "outputs": [
    {
     "output_type": "display_data",
     "data": {
      "text/plain": "<Figure size 432x288 with 1 Axes>",
      "image/svg+xml": "<?xml version=\"1.0\" encoding=\"utf-8\" standalone=\"no\"?>\n<!DOCTYPE svg PUBLIC \"-//W3C//DTD SVG 1.1//EN\"\n  \"http://www.w3.org/Graphics/SVG/1.1/DTD/svg11.dtd\">\n<!-- Created with matplotlib (https://matplotlib.org/) -->\n<svg height=\"302.4pt\" version=\"1.1\" viewBox=\"0 0 446.4 302.4\" width=\"446.4pt\" xmlns=\"http://www.w3.org/2000/svg\" xmlns:xlink=\"http://www.w3.org/1999/xlink\">\n <metadata>\n  <rdf:RDF xmlns:cc=\"http://creativecommons.org/ns#\" xmlns:dc=\"http://purl.org/dc/elements/1.1/\" xmlns:rdf=\"http://www.w3.org/1999/02/22-rdf-syntax-ns#\">\n   <cc:Work>\n    <dc:type rdf:resource=\"http://purl.org/dc/dcmitype/StillImage\"/>\n    <dc:date>2020-10-13T13:43:40.266472</dc:date>\n    <dc:format>image/svg+xml</dc:format>\n    <dc:creator>\n     <cc:Agent>\n      <dc:title>Matplotlib v3.3.1, https://matplotlib.org/</dc:title>\n     </cc:Agent>\n    </dc:creator>\n   </cc:Work>\n  </rdf:RDF>\n </metadata>\n <defs>\n  <style type=\"text/css\">*{stroke-linecap:butt;stroke-linejoin:round;}</style>\n </defs>\n <g id=\"figure_1\">\n  <g id=\"patch_1\">\n   <path d=\"M 0 302.4 \nL 446.4 302.4 \nL 446.4 0 \nL 0 0 \nz\n\" style=\"fill:#ffffff;\"/>\n  </g>\n  <g id=\"axes_1\">\n   <g id=\"LineCollection_1\">\n    <path clip-path=\"url(#p1d4a058b9d)\" d=\"M 26.836364 282.109091 \nL 419.563636 20.290909 \n\" style=\"fill:none;stroke:#000000;\"/>\n    <path clip-path=\"url(#p1d4a058b9d)\" d=\"M 26.836364 282.109091 \nL 26.836364 20.290909 \n\" style=\"fill:none;stroke:#000000;\"/>\n    <path clip-path=\"url(#p1d4a058b9d)\" d=\"M 26.836364 282.109091 \nL 419.563636 282.109091 \n\" style=\"fill:none;stroke:#000000;\"/>\n    <path clip-path=\"url(#p1d4a058b9d)\" d=\"M 419.563636 20.290909 \nL 26.836364 20.290909 \n\" style=\"fill:none;stroke:#000000;\"/>\n   </g>\n   <g id=\"PathCollection_1\">\n    <defs>\n     <path d=\"M 0 8.660254 \nC 2.296726 8.660254 4.499694 7.747755 6.123724 6.123724 \nC 7.747755 4.499694 8.660254 2.296726 8.660254 0 \nC 8.660254 -2.296726 7.747755 -4.499694 6.123724 -6.123724 \nC 4.499694 -7.747755 2.296726 -8.660254 0 -8.660254 \nC -2.296726 -8.660254 -4.499694 -7.747755 -6.123724 -6.123724 \nC -7.747755 -4.499694 -8.660254 -2.296726 -8.660254 0 \nC -8.660254 2.296726 -7.747755 4.499694 -6.123724 6.123724 \nC -4.499694 7.747755 -2.296726 8.660254 0 8.660254 \nz\n\" id=\"m3a29583ea7\" style=\"stroke:#1f78b4;\"/>\n    </defs>\n    <g clip-path=\"url(#p1d4a058b9d)\">\n     <use style=\"fill:#1f78b4;stroke:#1f78b4;\" x=\"26.836364\" xlink:href=\"#m3a29583ea7\" y=\"282.109091\"/>\n     <use style=\"fill:#1f78b4;stroke:#1f78b4;\" x=\"419.563636\" xlink:href=\"#m3a29583ea7\" y=\"20.290909\"/>\n     <use style=\"fill:#1f78b4;stroke:#1f78b4;\" x=\"26.836364\" xlink:href=\"#m3a29583ea7\" y=\"20.290909\"/>\n     <use style=\"fill:#1f78b4;stroke:#1f78b4;\" x=\"419.563636\" xlink:href=\"#m3a29583ea7\" y=\"282.109091\"/>\n    </g>\n   </g>\n   <g id=\"text_1\">\n    <g clip-path=\"url(#p1d4a058b9d)\">\n     <!-- nodeA -->\n     <g transform=\"translate(7.757301 285.420341)scale(0.12 -0.12)\">\n      <defs>\n       <path d=\"M 54.890625 33.015625 \nL 54.890625 0 \nL 45.90625 0 \nL 45.90625 32.71875 \nQ 45.90625 40.484375 42.875 44.328125 \nQ 39.84375 48.1875 33.796875 48.1875 \nQ 26.515625 48.1875 22.3125 43.546875 \nQ 18.109375 38.921875 18.109375 30.90625 \nL 18.109375 0 \nL 9.078125 0 \nL 9.078125 54.6875 \nL 18.109375 54.6875 \nL 18.109375 46.1875 \nQ 21.34375 51.125 25.703125 53.5625 \nQ 30.078125 56 35.796875 56 \nQ 45.21875 56 50.046875 50.171875 \nQ 54.890625 44.34375 54.890625 33.015625 \nz\n\" id=\"DejaVuSans-110\"/>\n       <path d=\"M 30.609375 48.390625 \nQ 23.390625 48.390625 19.1875 42.75 \nQ 14.984375 37.109375 14.984375 27.296875 \nQ 14.984375 17.484375 19.15625 11.84375 \nQ 23.34375 6.203125 30.609375 6.203125 \nQ 37.796875 6.203125 41.984375 11.859375 \nQ 46.1875 17.53125 46.1875 27.296875 \nQ 46.1875 37.015625 41.984375 42.703125 \nQ 37.796875 48.390625 30.609375 48.390625 \nz\nM 30.609375 56 \nQ 42.328125 56 49.015625 48.375 \nQ 55.71875 40.765625 55.71875 27.296875 \nQ 55.71875 13.875 49.015625 6.21875 \nQ 42.328125 -1.421875 30.609375 -1.421875 \nQ 18.84375 -1.421875 12.171875 6.21875 \nQ 5.515625 13.875 5.515625 27.296875 \nQ 5.515625 40.765625 12.171875 48.375 \nQ 18.84375 56 30.609375 56 \nz\n\" id=\"DejaVuSans-111\"/>\n       <path d=\"M 45.40625 46.390625 \nL 45.40625 75.984375 \nL 54.390625 75.984375 \nL 54.390625 0 \nL 45.40625 0 \nL 45.40625 8.203125 \nQ 42.578125 3.328125 38.25 0.953125 \nQ 33.9375 -1.421875 27.875 -1.421875 \nQ 17.96875 -1.421875 11.734375 6.484375 \nQ 5.515625 14.40625 5.515625 27.296875 \nQ 5.515625 40.1875 11.734375 48.09375 \nQ 17.96875 56 27.875 56 \nQ 33.9375 56 38.25 53.625 \nQ 42.578125 51.265625 45.40625 46.390625 \nz\nM 14.796875 27.296875 \nQ 14.796875 17.390625 18.875 11.75 \nQ 22.953125 6.109375 30.078125 6.109375 \nQ 37.203125 6.109375 41.296875 11.75 \nQ 45.40625 17.390625 45.40625 27.296875 \nQ 45.40625 37.203125 41.296875 42.84375 \nQ 37.203125 48.484375 30.078125 48.484375 \nQ 22.953125 48.484375 18.875 42.84375 \nQ 14.796875 37.203125 14.796875 27.296875 \nz\n\" id=\"DejaVuSans-100\"/>\n       <path d=\"M 56.203125 29.59375 \nL 56.203125 25.203125 \nL 14.890625 25.203125 \nQ 15.484375 15.921875 20.484375 11.0625 \nQ 25.484375 6.203125 34.421875 6.203125 \nQ 39.59375 6.203125 44.453125 7.46875 \nQ 49.3125 8.734375 54.109375 11.28125 \nL 54.109375 2.78125 \nQ 49.265625 0.734375 44.1875 -0.34375 \nQ 39.109375 -1.421875 33.890625 -1.421875 \nQ 20.796875 -1.421875 13.15625 6.1875 \nQ 5.515625 13.8125 5.515625 26.8125 \nQ 5.515625 40.234375 12.765625 48.109375 \nQ 20.015625 56 32.328125 56 \nQ 43.359375 56 49.78125 48.890625 \nQ 56.203125 41.796875 56.203125 29.59375 \nz\nM 47.21875 32.234375 \nQ 47.125 39.59375 43.09375 43.984375 \nQ 39.0625 48.390625 32.421875 48.390625 \nQ 24.90625 48.390625 20.390625 44.140625 \nQ 15.875 39.890625 15.1875 32.171875 \nz\n\" id=\"DejaVuSans-101\"/>\n       <path d=\"M 34.1875 63.1875 \nL 20.796875 26.90625 \nL 47.609375 26.90625 \nz\nM 28.609375 72.90625 \nL 39.796875 72.90625 \nL 67.578125 0 \nL 57.328125 0 \nL 50.6875 18.703125 \nL 17.828125 18.703125 \nL 11.1875 0 \nL 0.78125 0 \nz\n\" id=\"DejaVuSans-65\"/>\n      </defs>\n      <use xlink:href=\"#DejaVuSans-110\"/>\n      <use x=\"63.378906\" xlink:href=\"#DejaVuSans-111\"/>\n      <use x=\"124.560547\" xlink:href=\"#DejaVuSans-100\"/>\n      <use x=\"188.037109\" xlink:href=\"#DejaVuSans-101\"/>\n      <use x=\"249.560547\" xlink:href=\"#DejaVuSans-65\"/>\n     </g>\n    </g>\n   </g>\n   <g id=\"text_2\">\n    <g clip-path=\"url(#p1d4a058b9d)\">\n     <!-- nodeB -->\n     <g transform=\"translate(400.472386 23.602159)scale(0.12 -0.12)\">\n      <defs>\n       <path d=\"M 19.671875 34.8125 \nL 19.671875 8.109375 \nL 35.5 8.109375 \nQ 43.453125 8.109375 47.28125 11.40625 \nQ 51.125 14.703125 51.125 21.484375 \nQ 51.125 28.328125 47.28125 31.5625 \nQ 43.453125 34.8125 35.5 34.8125 \nz\nM 19.671875 64.796875 \nL 19.671875 42.828125 \nL 34.28125 42.828125 \nQ 41.5 42.828125 45.03125 45.53125 \nQ 48.578125 48.25 48.578125 53.8125 \nQ 48.578125 59.328125 45.03125 62.0625 \nQ 41.5 64.796875 34.28125 64.796875 \nz\nM 9.8125 72.90625 \nL 35.015625 72.90625 \nQ 46.296875 72.90625 52.390625 68.21875 \nQ 58.5 63.53125 58.5 54.890625 \nQ 58.5 48.1875 55.375 44.234375 \nQ 52.25 40.28125 46.1875 39.3125 \nQ 53.46875 37.75 57.5 32.78125 \nQ 61.53125 27.828125 61.53125 20.40625 \nQ 61.53125 10.640625 54.890625 5.3125 \nQ 48.25 0 35.984375 0 \nL 9.8125 0 \nz\n\" id=\"DejaVuSans-66\"/>\n      </defs>\n      <use xlink:href=\"#DejaVuSans-110\"/>\n      <use x=\"63.378906\" xlink:href=\"#DejaVuSans-111\"/>\n      <use x=\"124.560547\" xlink:href=\"#DejaVuSans-100\"/>\n      <use x=\"188.037109\" xlink:href=\"#DejaVuSans-101\"/>\n      <use x=\"249.560547\" xlink:href=\"#DejaVuSans-66\"/>\n     </g>\n    </g>\n   </g>\n   <g id=\"text_3\">\n    <g clip-path=\"url(#p1d4a058b9d)\">\n     <!-- nodeC -->\n     <g transform=\"translate(7.671989 23.602159)scale(0.12 -0.12)\">\n      <defs>\n       <path d=\"M 64.40625 67.28125 \nL 64.40625 56.890625 \nQ 59.421875 61.53125 53.78125 63.8125 \nQ 48.140625 66.109375 41.796875 66.109375 \nQ 29.296875 66.109375 22.65625 58.46875 \nQ 16.015625 50.828125 16.015625 36.375 \nQ 16.015625 21.96875 22.65625 14.328125 \nQ 29.296875 6.6875 41.796875 6.6875 \nQ 48.140625 6.6875 53.78125 8.984375 \nQ 59.421875 11.28125 64.40625 15.921875 \nL 64.40625 5.609375 \nQ 59.234375 2.09375 53.4375 0.328125 \nQ 47.65625 -1.421875 41.21875 -1.421875 \nQ 24.65625 -1.421875 15.125 8.703125 \nQ 5.609375 18.84375 5.609375 36.375 \nQ 5.609375 53.953125 15.125 64.078125 \nQ 24.65625 74.21875 41.21875 74.21875 \nQ 47.75 74.21875 53.53125 72.484375 \nQ 59.328125 70.75 64.40625 67.28125 \nz\n\" id=\"DejaVuSans-67\"/>\n      </defs>\n      <use xlink:href=\"#DejaVuSans-110\"/>\n      <use x=\"63.378906\" xlink:href=\"#DejaVuSans-111\"/>\n      <use x=\"124.560547\" xlink:href=\"#DejaVuSans-100\"/>\n      <use x=\"188.037109\" xlink:href=\"#DejaVuSans-101\"/>\n      <use x=\"249.560547\" xlink:href=\"#DejaVuSans-67\"/>\n     </g>\n    </g>\n   </g>\n   <g id=\"text_4\">\n    <g clip-path=\"url(#p1d4a058b9d)\">\n     <!-- nodeD -->\n     <g transform=\"translate(399.968949 285.420341)scale(0.12 -0.12)\">\n      <defs>\n       <path d=\"M 19.671875 64.796875 \nL 19.671875 8.109375 \nL 31.59375 8.109375 \nQ 46.6875 8.109375 53.6875 14.9375 \nQ 60.6875 21.78125 60.6875 36.53125 \nQ 60.6875 51.171875 53.6875 57.984375 \nQ 46.6875 64.796875 31.59375 64.796875 \nz\nM 9.8125 72.90625 \nL 30.078125 72.90625 \nQ 51.265625 72.90625 61.171875 64.09375 \nQ 71.09375 55.28125 71.09375 36.53125 \nQ 71.09375 17.671875 61.125 8.828125 \nQ 51.171875 0 30.078125 0 \nL 9.8125 0 \nz\n\" id=\"DejaVuSans-68\"/>\n      </defs>\n      <use xlink:href=\"#DejaVuSans-110\"/>\n      <use x=\"63.378906\" xlink:href=\"#DejaVuSans-111\"/>\n      <use x=\"124.560547\" xlink:href=\"#DejaVuSans-100\"/>\n      <use x=\"188.037109\" xlink:href=\"#DejaVuSans-101\"/>\n      <use x=\"249.560547\" xlink:href=\"#DejaVuSans-68\"/>\n     </g>\n    </g>\n   </g>\n  </g>\n </g>\n <defs>\n  <clipPath id=\"p1d4a058b9d\">\n   <rect height=\"288\" width=\"432\" x=\"7.2\" y=\"7.2\"/>\n  </clipPath>\n </defs>\n</svg>\n",
      "image/png": "[encoded data removed]"
     },
     "metadata": {}
    }
   ],
   "source": [
    "G = nx.Graph()\n",
    "\n",
    "G.add_node('nodeA')\n",
    "G.add_node('nodeB')\n",
    "G.add_node('nodeC')\n",
    "G.add_node('nodeD')\n",
    "\n",
    "G.add_edge('nodeA', 'nodeB')\n",
    "G.add_edge('nodeA', 'nodeC')\n",
    "G.add_edge('nodeB', 'nodeC')\n",
    "G.add_edge('nodeA', 'nodeD')\n",
    "\n",
    "pos = {}\n",
    "pos['nodeA'] = (0,0)\n",
    "pos['nodeB'] = (1,1)\n",
    "pos['nodeC'] = (0,1)\n",
    "pos['nodeD'] = (1,0)\n",
    "\n",
    "nx.draw(G, pos, with_labels=True)\n",
    "plt.show()"
   ]
  },
  {
   "cell_type": "markdown",
   "metadata": {},
   "source": [
    "### Network route"
   ]
  },
  {
   "cell_type": "code",
   "execution_count": 38,
   "metadata": {},
   "outputs": [
    {
     "output_type": "display_data",
     "data": {
      "text/plain": "<Figure size 432x288 with 1 Axes>",
      "image/svg+xml": "<?xml version=\"1.0\" encoding=\"utf-8\" standalone=\"no\"?>\n<!DOCTYPE svg PUBLIC \"-//W3C//DTD SVG 1.1//EN\"\n  \"http://www.w3.org/Graphics/SVG/1.1/DTD/svg11.dtd\">\n<!-- Created with matplotlib (https://matplotlib.org/) -->\n<svg height=\"302.4pt\" version=\"1.1\" viewBox=\"0 0 446.4 302.4\" width=\"446.4pt\" xmlns=\"http://www.w3.org/2000/svg\" xmlns:xlink=\"http://www.w3.org/1999/xlink\">\n <metadata>\n  <rdf:RDF xmlns:cc=\"http://creativecommons.org/ns#\" xmlns:dc=\"http://purl.org/dc/elements/1.1/\" xmlns:rdf=\"http://www.w3.org/1999/02/22-rdf-syntax-ns#\">\n   <cc:Work>\n    <dc:type rdf:resource=\"http://purl.org/dc/dcmitype/StillImage\"/>\n    <dc:date>2020-10-13T14:01:43.445953</dc:date>\n    <dc:format>image/svg+xml</dc:format>\n    <dc:creator>\n     <cc:Agent>\n      <dc:title>Matplotlib v3.3.1, https://matplotlib.org/</dc:title>\n     </cc:Agent>\n    </dc:creator>\n   </cc:Work>\n  </rdf:RDF>\n </metadata>\n <defs>\n  <style type=\"text/css\">*{stroke-linecap:butt;stroke-linejoin:round;}</style>\n </defs>\n <g id=\"figure_1\">\n  <g id=\"patch_1\">\n   <path d=\"M 0 302.4 \nL 446.4 302.4 \nL 446.4 0 \nL 0 0 \nz\n\" style=\"fill:#ffffff;\"/>\n  </g>\n  <g id=\"axes_1\">\n   <g id=\"LineCollection_1\">\n    <path clip-path=\"url(#p889cab14d3)\" d=\"M 26.836364 282.109091 \nL 26.836364 282.109091 \n\" style=\"fill:none;stroke:#000000;stroke-width:6.39921;\"/>\n    <path clip-path=\"url(#p889cab14d3)\" d=\"M 26.836364 282.109091 \nL 26.836364 20.290909 \n\" style=\"fill:none;stroke:#000000;stroke-width:1.43353;\"/>\n    <path clip-path=\"url(#p889cab14d3)\" d=\"M 26.836364 282.109091 \nL 419.563636 282.109091 \n\" style=\"fill:none;stroke:#000000;stroke-width:9.44669;\"/>\n    <path clip-path=\"url(#p889cab14d3)\" d=\"M 26.836364 282.109091 \nL 419.563636 20.290909 \n\" style=\"fill:none;stroke:#000000;stroke-width:5.21848;\"/>\n    <path clip-path=\"url(#p889cab14d3)\" d=\"M 26.836364 282.109091 \nL 223.2 151.2 \n\" style=\"fill:none;\"/>\n    <path clip-path=\"url(#p889cab14d3)\" d=\"M 26.836364 20.290909 \nL 26.836364 20.290909 \n\" style=\"fill:none;stroke:#000000;stroke-width:2.64556;\"/>\n    <path clip-path=\"url(#p889cab14d3)\" d=\"M 26.836364 20.290909 \nL 419.563636 282.109091 \n\" style=\"fill:none;\"/>\n    <path clip-path=\"url(#p889cab14d3)\" d=\"M 26.836364 20.290909 \nL 419.563636 20.290909 \n\" style=\"fill:none;stroke:#000000;stroke-width:4.5615;\"/>\n    <path clip-path=\"url(#p889cab14d3)\" d=\"M 26.836364 20.290909 \nL 223.2 151.2 \n\" style=\"fill:none;stroke:#000000;stroke-width:5.68434;\"/>\n    <path clip-path=\"url(#p889cab14d3)\" d=\"M 419.563636 282.109091 \nL 419.563636 282.109091 \n\" style=\"fill:none;\"/>\n    <path clip-path=\"url(#p889cab14d3)\" d=\"M 419.563636 282.109091 \nL 419.563636 20.290909 \n\" style=\"fill:none;stroke:#000000;stroke-width:6.17635;\"/>\n    <path clip-path=\"url(#p889cab14d3)\" d=\"M 419.563636 282.109091 \nL 223.2 151.2 \n\" style=\"fill:none;stroke:#000000;stroke-width:6.12096;\"/>\n    <path clip-path=\"url(#p889cab14d3)\" d=\"M 419.563636 20.290909 \nL 419.563636 20.290909 \n\" style=\"fill:none;stroke:#000000;stroke-width:6.16934;\"/>\n    <path clip-path=\"url(#p889cab14d3)\" d=\"M 419.563636 20.290909 \nL 223.2 151.2 \n\" style=\"fill:none;stroke:#000000;stroke-width:9.43748;\"/>\n    <path clip-path=\"url(#p889cab14d3)\" d=\"M 223.2 151.2 \nL 223.2 151.2 \n\" style=\"fill:none;\"/>\n   </g>\n   <g id=\"PathCollection_1\">\n    <defs>\n     <path d=\"M 0 15.811388 \nC 4.193229 15.811388 8.215279 14.145401 11.18034 11.18034 \nC 14.145401 8.215279 15.811388 4.193229 15.811388 0 \nC 15.811388 -4.193229 14.145401 -8.215279 11.18034 -11.18034 \nC 8.215279 -14.145401 4.193229 -15.811388 0 -15.811388 \nC -4.193229 -15.811388 -8.215279 -14.145401 -11.18034 -11.18034 \nC -14.145401 -8.215279 -15.811388 -4.193229 -15.811388 0 \nC -15.811388 4.193229 -14.145401 8.215279 -11.18034 11.18034 \nC -8.215279 14.145401 -4.193229 15.811388 0 15.811388 \nz\n\" id=\"m0b73bd1d42\" style=\"stroke:#000000;\"/>\n    </defs>\n    <g clip-path=\"url(#p889cab14d3)\">\n     <use style=\"stroke:#000000;\" x=\"26.836364\" xlink:href=\"#m0b73bd1d42\" y=\"282.109091\"/>\n     <use style=\"stroke:#000000;\" x=\"26.836364\" xlink:href=\"#m0b73bd1d42\" y=\"20.290909\"/>\n     <use style=\"stroke:#000000;\" x=\"419.563636\" xlink:href=\"#m0b73bd1d42\" y=\"282.109091\"/>\n     <use style=\"stroke:#000000;\" x=\"419.563636\" xlink:href=\"#m0b73bd1d42\" y=\"20.290909\"/>\n     <use style=\"stroke:#000000;\" x=\"223.2\" xlink:href=\"#m0b73bd1d42\" y=\"151.2\"/>\n    </g>\n   </g>\n   <g id=\"text_1\">\n    <g clip-path=\"url(#p889cab14d3)\">\n     <!-- A -->\n     <g style=\"fill:#ffffff;\" transform=\"translate(21.363864 286.524091)scale(0.16 -0.16)\">\n      <defs>\n       <path d=\"M 34.1875 63.1875 \nL 20.796875 26.90625 \nL 47.609375 26.90625 \nz\nM 28.609375 72.90625 \nL 39.796875 72.90625 \nL 67.578125 0 \nL 57.328125 0 \nL 50.6875 18.703125 \nL 17.828125 18.703125 \nL 11.1875 0 \nL 0.78125 0 \nz\n\" id=\"DejaVuSans-65\"/>\n      </defs>\n      <use xlink:href=\"#DejaVuSans-65\"/>\n     </g>\n    </g>\n   </g>\n   <g id=\"text_2\">\n    <g clip-path=\"url(#p889cab14d3)\">\n     <!-- B -->\n     <g style=\"fill:#ffffff;\" transform=\"translate(21.347614 24.705909)scale(0.16 -0.16)\">\n      <defs>\n       <path d=\"M 19.671875 34.8125 \nL 19.671875 8.109375 \nL 35.5 8.109375 \nQ 43.453125 8.109375 47.28125 11.40625 \nQ 51.125 14.703125 51.125 21.484375 \nQ 51.125 28.328125 47.28125 31.5625 \nQ 43.453125 34.8125 35.5 34.8125 \nz\nM 19.671875 64.796875 \nL 19.671875 42.828125 \nL 34.28125 42.828125 \nQ 41.5 42.828125 45.03125 45.53125 \nQ 48.578125 48.25 48.578125 53.8125 \nQ 48.578125 59.328125 45.03125 62.0625 \nQ 41.5 64.796875 34.28125 64.796875 \nz\nM 9.8125 72.90625 \nL 35.015625 72.90625 \nQ 46.296875 72.90625 52.390625 68.21875 \nQ 58.5 63.53125 58.5 54.890625 \nQ 58.5 48.1875 55.375 44.234375 \nQ 52.25 40.28125 46.1875 39.3125 \nQ 53.46875 37.75 57.5 32.78125 \nQ 61.53125 27.828125 61.53125 20.40625 \nQ 61.53125 10.640625 54.890625 5.3125 \nQ 48.25 0 35.984375 0 \nL 9.8125 0 \nz\n\" id=\"DejaVuSans-66\"/>\n      </defs>\n      <use xlink:href=\"#DejaVuSans-66\"/>\n     </g>\n    </g>\n   </g>\n   <g id=\"text_3\">\n    <g clip-path=\"url(#p889cab14d3)\">\n     <!-- C -->\n     <g style=\"fill:#ffffff;\" transform=\"translate(413.977386 286.524091)scale(0.16 -0.16)\">\n      <defs>\n       <path d=\"M 64.40625 67.28125 \nL 64.40625 56.890625 \nQ 59.421875 61.53125 53.78125 63.8125 \nQ 48.140625 66.109375 41.796875 66.109375 \nQ 29.296875 66.109375 22.65625 58.46875 \nQ 16.015625 50.828125 16.015625 36.375 \nQ 16.015625 21.96875 22.65625 14.328125 \nQ 29.296875 6.6875 41.796875 6.6875 \nQ 48.140625 6.6875 53.78125 8.984375 \nQ 59.421875 11.28125 64.40625 15.921875 \nL 64.40625 5.609375 \nQ 59.234375 2.09375 53.4375 0.328125 \nQ 47.65625 -1.421875 41.21875 -1.421875 \nQ 24.65625 -1.421875 15.125 8.703125 \nQ 5.609375 18.84375 5.609375 36.375 \nQ 5.609375 53.953125 15.125 64.078125 \nQ 24.65625 74.21875 41.21875 74.21875 \nQ 47.75 74.21875 53.53125 72.484375 \nQ 59.328125 70.75 64.40625 67.28125 \nz\n\" id=\"DejaVuSans-67\"/>\n      </defs>\n      <use xlink:href=\"#DejaVuSans-67\"/>\n     </g>\n    </g>\n   </g>\n   <g id=\"text_4\">\n    <g clip-path=\"url(#p889cab14d3)\">\n     <!-- D -->\n     <g style=\"fill:#ffffff;\" transform=\"translate(413.403636 24.705909)scale(0.16 -0.16)\">\n      <defs>\n       <path d=\"M 19.671875 64.796875 \nL 19.671875 8.109375 \nL 31.59375 8.109375 \nQ 46.6875 8.109375 53.6875 14.9375 \nQ 60.6875 21.78125 60.6875 36.53125 \nQ 60.6875 51.171875 53.6875 57.984375 \nQ 46.6875 64.796875 31.59375 64.796875 \nz\nM 9.8125 72.90625 \nL 30.078125 72.90625 \nQ 51.265625 72.90625 61.171875 64.09375 \nQ 71.09375 55.28125 71.09375 36.53125 \nQ 71.09375 17.671875 61.125 8.828125 \nQ 51.171875 0 30.078125 0 \nL 9.8125 0 \nz\n\" id=\"DejaVuSans-68\"/>\n      </defs>\n      <use xlink:href=\"#DejaVuSans-68\"/>\n     </g>\n    </g>\n   </g>\n   <g id=\"text_5\">\n    <g clip-path=\"url(#p889cab14d3)\">\n     <!-- E -->\n     <g style=\"fill:#ffffff;\" transform=\"translate(218.145 155.615)scale(0.16 -0.16)\">\n      <defs>\n       <path d=\"M 9.8125 72.90625 \nL 55.90625 72.90625 \nL 55.90625 64.59375 \nL 19.671875 64.59375 \nL 19.671875 43.015625 \nL 54.390625 43.015625 \nL 54.390625 34.71875 \nL 19.671875 34.71875 \nL 19.671875 8.296875 \nL 56.78125 8.296875 \nL 56.78125 0 \nL 9.8125 0 \nz\n\" id=\"DejaVuSans-69\"/>\n      </defs>\n      <use xlink:href=\"#DejaVuSans-69\"/>\n     </g>\n    </g>\n   </g>\n  </g>\n </g>\n <defs>\n  <clipPath id=\"p889cab14d3\">\n   <rect height=\"288\" width=\"432\" x=\"7.2\" y=\"7.2\"/>\n  </clipPath>\n </defs>\n</svg>\n",
      "image/png": "[encoded data removed]"
     },
     "metadata": {}
    }
   ],
   "source": [
    "df_w = pd.read_csv('network_weight.csv')\n",
    "df_p = pd.read_csv('network_pos.csv')\n",
    "\n",
    "# list of edges weights\n",
    "size = 10\n",
    "edge_weights = []\n",
    "for i in range(len(df_w)):\n",
    "    for j in range(len(df_w.columns)):\n",
    "        edge_weights.append(df_w.iloc[i][j]*size)\n",
    "\n",
    "G = nx.Graph()\n",
    "# nodes\n",
    "for i in range(len(df_w.columns)):\n",
    "    G.add_node(df_w.columns[i])\n",
    "# edges\n",
    "for i in range(len(df_w.columns)):\n",
    "    for j in range(len(df_w.columns)):\n",
    "        G.add_edge(df_w.columns[i], df_w.columns[j])\n",
    "# coordinates\n",
    "pos = {}\n",
    "for i in range(len(df_w.columns)):\n",
    "    node = df_w.columns[i]\n",
    "    pos[node] = (df_p[node][0], df_p[node][1])\n",
    "\n",
    "# display\n",
    "nx.draw(G, pos, with_labels=True, font_size=16, node_size=1000, node_color='k',\n",
    "        font_color='w', width=edge_weights)\n",
    "plt.show()"
   ]
  },
  {
   "cell_type": "markdown",
   "metadata": {},
   "source": [
    "### Transportation route information"
   ]
  },
  {
   "cell_type": "code",
   "execution_count": 39,
   "metadata": {},
   "outputs": [
    {
     "output_type": "execute_result",
     "data": {
      "text/plain": "    F1  F2  F3  F4\n工場                \nW1  15  15   0   5\nW2   5   0  30   5\nW3  10  15   2  15",
      "text/html": "<div>\n<style scoped>\n    .dataframe tbody tr th:only-of-type {\n        vertical-align: middle;\n    }\n\n    .dataframe tbody tr th {\n        vertical-align: top;\n    }\n\n    .dataframe thead th {\n        text-align: right;\n    }\n</style>\n<table border=\"1\" class=\"dataframe\">\n  <thead>\n    <tr style=\"text-align: right;\">\n      <th></th>\n      <th>F1</th>\n      <th>F2</th>\n      <th>F3</th>\n      <th>F4</th>\n    </tr>\n    <tr>\n      <th>工場</th>\n      <th></th>\n      <th></th>\n      <th></th>\n      <th></th>\n    </tr>\n  </thead>\n  <tbody>\n    <tr>\n      <th>W1</th>\n      <td>15</td>\n      <td>15</td>\n      <td>0</td>\n      <td>5</td>\n    </tr>\n    <tr>\n      <th>W2</th>\n      <td>5</td>\n      <td>0</td>\n      <td>30</td>\n      <td>5</td>\n    </tr>\n    <tr>\n      <th>W3</th>\n      <td>10</td>\n      <td>15</td>\n      <td>2</td>\n      <td>15</td>\n    </tr>\n  </tbody>\n</table>\n</div>"
     },
     "metadata": {},
     "execution_count": 39
    }
   ],
   "source": [
    "df_tr = pd.read_csv('trans_route.csv', index_col='工場')\n",
    "df_tr"
   ]
  },
  {
   "cell_type": "code",
   "execution_count": 40,
   "metadata": {},
   "outputs": [
    {
     "output_type": "execute_result",
     "data": {
      "text/plain": "   W1  W2  W3   F1   F2   F3   F4\n0   0   0   0  4.0  4.0  4.0  4.0\n1   1   2   3  0.5  1.5  2.5  3.5",
      "text/html": "<div>\n<style scoped>\n    .dataframe tbody tr th:only-of-type {\n        vertical-align: middle;\n    }\n\n    .dataframe tbody tr th {\n        vertical-align: top;\n    }\n\n    .dataframe thead th {\n        text-align: right;\n    }\n</style>\n<table border=\"1\" class=\"dataframe\">\n  <thead>\n    <tr style=\"text-align: right;\">\n      <th></th>\n      <th>W1</th>\n      <th>W2</th>\n      <th>W3</th>\n      <th>F1</th>\n      <th>F2</th>\n      <th>F3</th>\n      <th>F4</th>\n    </tr>\n  </thead>\n  <tbody>\n    <tr>\n      <th>0</th>\n      <td>0</td>\n      <td>0</td>\n      <td>0</td>\n      <td>4.0</td>\n      <td>4.0</td>\n      <td>4.0</td>\n      <td>4.0</td>\n    </tr>\n    <tr>\n      <th>1</th>\n      <td>1</td>\n      <td>2</td>\n      <td>3</td>\n      <td>0.5</td>\n      <td>1.5</td>\n      <td>2.5</td>\n      <td>3.5</td>\n    </tr>\n  </tbody>\n</table>\n</div>"
     },
     "metadata": {},
     "execution_count": 40
    }
   ],
   "source": [
    "df_pos = pd.read_csv('trans_route_pos.csv')\n",
    "df_pos"
   ]
  },
  {
   "cell_type": "code",
   "execution_count": 75,
   "metadata": {},
   "outputs": [
    {
     "output_type": "display_data",
     "data": {
      "text/plain": "<Figure size 432x288 with 1 Axes>",
      "image/svg+xml": "<?xml version=\"1.0\" encoding=\"utf-8\" standalone=\"no\"?>\n<!DOCTYPE svg PUBLIC \"-//W3C//DTD SVG 1.1//EN\"\n  \"http://www.w3.org/Graphics/SVG/1.1/DTD/svg11.dtd\">\n<!-- Created with matplotlib (https://matplotlib.org/) -->\n<svg height=\"302.4pt\" version=\"1.1\" viewBox=\"0 0 446.4 302.4\" width=\"446.4pt\" xmlns=\"http://www.w3.org/2000/svg\" xmlns:xlink=\"http://www.w3.org/1999/xlink\">\n <metadata>\n  <rdf:RDF xmlns:cc=\"http://creativecommons.org/ns#\" xmlns:dc=\"http://purl.org/dc/elements/1.1/\" xmlns:rdf=\"http://www.w3.org/1999/02/22-rdf-syntax-ns#\">\n   <cc:Work>\n    <dc:type rdf:resource=\"http://purl.org/dc/dcmitype/StillImage\"/>\n    <dc:date>2020-10-13T16:49:21.963074</dc:date>\n    <dc:format>image/svg+xml</dc:format>\n    <dc:creator>\n     <cc:Agent>\n      <dc:title>Matplotlib v3.3.1, https://matplotlib.org/</dc:title>\n     </cc:Agent>\n    </dc:creator>\n   </cc:Work>\n  </rdf:RDF>\n </metadata>\n <defs>\n  <style type=\"text/css\">*{stroke-linecap:butt;stroke-linejoin:round;}</style>\n </defs>\n <g id=\"figure_1\">\n  <g id=\"patch_1\">\n   <path d=\"M 0 302.4 \nL 446.4 302.4 \nL 446.4 0 \nL 0 0 \nz\n\" style=\"fill:#ffffff;\"/>\n  </g>\n  <g id=\"axes_1\">\n   <g id=\"LineCollection_1\">\n    <path clip-path=\"url(#pd617de9409)\" d=\"M 26.836364 238.472727 \nL 26.836364 151.2 \n\" style=\"fill:none;\"/>\n    <path clip-path=\"url(#pd617de9409)\" d=\"M 26.836364 238.472727 \nL 26.836364 63.927273 \n\" style=\"fill:none;\"/>\n    <path clip-path=\"url(#pd617de9409)\" d=\"M 26.836364 238.472727 \nL 419.563636 282.109091 \n\" style=\"fill:none;stroke:#000000;stroke-width:1.5;\"/>\n    <path clip-path=\"url(#pd617de9409)\" d=\"M 26.836364 238.472727 \nL 419.563636 194.836364 \n\" style=\"fill:none;stroke:#000000;stroke-width:1.5;\"/>\n    <path clip-path=\"url(#pd617de9409)\" d=\"M 26.836364 238.472727 \nL 419.563636 107.563636 \n\" style=\"fill:none;\"/>\n    <path clip-path=\"url(#pd617de9409)\" d=\"M 26.836364 238.472727 \nL 419.563636 20.290909 \n\" style=\"fill:none;stroke:#000000;stroke-width:0.5;\"/>\n    <path clip-path=\"url(#pd617de9409)\" d=\"M 26.836364 151.2 \nL 26.836364 63.927273 \n\" style=\"fill:none;\"/>\n    <path clip-path=\"url(#pd617de9409)\" d=\"M 26.836364 151.2 \nL 419.563636 282.109091 \n\" style=\"fill:none;stroke:#000000;stroke-width:0.5;\"/>\n    <path clip-path=\"url(#pd617de9409)\" d=\"M 26.836364 151.2 \nL 419.563636 194.836364 \n\" style=\"fill:none;\"/>\n    <path clip-path=\"url(#pd617de9409)\" d=\"M 26.836364 151.2 \nL 419.563636 107.563636 \n\" style=\"fill:none;stroke:#000000;stroke-width:3;\"/>\n    <path clip-path=\"url(#pd617de9409)\" d=\"M 26.836364 151.2 \nL 419.563636 20.290909 \n\" style=\"fill:none;stroke:#000000;stroke-width:0.5;\"/>\n    <path clip-path=\"url(#pd617de9409)\" d=\"M 26.836364 63.927273 \nL 419.563636 282.109091 \n\" style=\"fill:none;stroke:#000000;\"/>\n    <path clip-path=\"url(#pd617de9409)\" d=\"M 26.836364 63.927273 \nL 419.563636 194.836364 \n\" style=\"fill:none;stroke:#000000;stroke-width:1.5;\"/>\n    <path clip-path=\"url(#pd617de9409)\" d=\"M 26.836364 63.927273 \nL 419.563636 107.563636 \n\" style=\"fill:none;stroke:#000000;stroke-width:0.2;\"/>\n    <path clip-path=\"url(#pd617de9409)\" d=\"M 26.836364 63.927273 \nL 419.563636 20.290909 \n\" style=\"fill:none;stroke:#000000;stroke-width:1.5;\"/>\n    <path clip-path=\"url(#pd617de9409)\" d=\"M 419.563636 282.109091 \nL 419.563636 194.836364 \n\" style=\"fill:none;\"/>\n    <path clip-path=\"url(#pd617de9409)\" d=\"M 419.563636 282.109091 \nL 419.563636 107.563636 \n\" style=\"fill:none;\"/>\n    <path clip-path=\"url(#pd617de9409)\" d=\"M 419.563636 282.109091 \nL 419.563636 20.290909 \n\" style=\"fill:none;\"/>\n    <path clip-path=\"url(#pd617de9409)\" d=\"M 419.563636 194.836364 \nL 419.563636 107.563636 \n\" style=\"fill:none;\"/>\n    <path clip-path=\"url(#pd617de9409)\" d=\"M 419.563636 194.836364 \nL 419.563636 20.290909 \n\" style=\"fill:none;\"/>\n    <path clip-path=\"url(#pd617de9409)\" d=\"M 419.563636 107.563636 \nL 419.563636 20.290909 \n\" style=\"fill:none;\"/>\n   </g>\n   <g id=\"PathCollection_1\">\n    <defs>\n     <path d=\"M 0 15.811388 \nC 4.193229 15.811388 8.215279 14.145401 11.18034 11.18034 \nC 14.145401 8.215279 15.811388 4.193229 15.811388 0 \nC 15.811388 -4.193229 14.145401 -8.215279 11.18034 -11.18034 \nC 8.215279 -14.145401 4.193229 -15.811388 0 -15.811388 \nC -4.193229 -15.811388 -8.215279 -14.145401 -11.18034 -11.18034 \nC -14.145401 -8.215279 -15.811388 -4.193229 -15.811388 0 \nC -15.811388 4.193229 -14.145401 8.215279 -11.18034 11.18034 \nC -8.215279 14.145401 -4.193229 15.811388 0 15.811388 \nz\n\" id=\"m160674e1e6\" style=\"stroke:#0000ff;\"/>\n    </defs>\n    <g clip-path=\"url(#pd617de9409)\">\n     <use style=\"fill:#0000ff;stroke:#0000ff;\" x=\"26.836364\" xlink:href=\"#m160674e1e6\" y=\"238.472727\"/>\n     <use style=\"fill:#0000ff;stroke:#0000ff;\" x=\"26.836364\" xlink:href=\"#m160674e1e6\" y=\"151.2\"/>\n     <use style=\"fill:#0000ff;stroke:#0000ff;\" x=\"26.836364\" xlink:href=\"#m160674e1e6\" y=\"63.927273\"/>\n     <use style=\"fill:#0000ff;stroke:#0000ff;\" x=\"419.563636\" xlink:href=\"#m160674e1e6\" y=\"282.109091\"/>\n     <use style=\"fill:#0000ff;stroke:#0000ff;\" x=\"419.563636\" xlink:href=\"#m160674e1e6\" y=\"194.836364\"/>\n     <use style=\"fill:#0000ff;stroke:#0000ff;\" x=\"419.563636\" xlink:href=\"#m160674e1e6\" y=\"107.563636\"/>\n     <use style=\"fill:#0000ff;stroke:#0000ff;\" x=\"419.563636\" xlink:href=\"#m160674e1e6\" y=\"20.290909\"/>\n    </g>\n   </g>\n   <g id=\"text_1\">\n    <g clip-path=\"url(#pd617de9409)\">\n     <!-- W1 -->\n     <g style=\"fill:#ffffff;\" transform=\"translate(13.836364 242.887727)scale(0.16 -0.16)\">\n      <defs>\n       <path d=\"M 3.328125 72.90625 \nL 13.28125 72.90625 \nL 28.609375 11.28125 \nL 43.890625 72.90625 \nL 54.984375 72.90625 \nL 70.3125 11.28125 \nL 85.59375 72.90625 \nL 95.609375 72.90625 \nL 77.296875 0 \nL 64.890625 0 \nL 49.515625 63.28125 \nL 33.984375 0 \nL 21.578125 0 \nz\n\" id=\"DejaVuSans-87\"/>\n       <path d=\"M 12.40625 8.296875 \nL 28.515625 8.296875 \nL 28.515625 63.921875 \nL 10.984375 60.40625 \nL 10.984375 69.390625 \nL 28.421875 72.90625 \nL 38.28125 72.90625 \nL 38.28125 8.296875 \nL 54.390625 8.296875 \nL 54.390625 0 \nL 12.40625 0 \nz\n\" id=\"DejaVuSans-49\"/>\n      </defs>\n      <use xlink:href=\"#DejaVuSans-87\"/>\n      <use x=\"98.876953\" xlink:href=\"#DejaVuSans-49\"/>\n     </g>\n    </g>\n   </g>\n   <g id=\"text_2\">\n    <g clip-path=\"url(#pd617de9409)\">\n     <!-- W2 -->\n     <g style=\"fill:#ffffff;\" transform=\"translate(13.836364 155.615)scale(0.16 -0.16)\">\n      <defs>\n       <path d=\"M 19.1875 8.296875 \nL 53.609375 8.296875 \nL 53.609375 0 \nL 7.328125 0 \nL 7.328125 8.296875 \nQ 12.9375 14.109375 22.625 23.890625 \nQ 32.328125 33.6875 34.8125 36.53125 \nQ 39.546875 41.84375 41.421875 45.53125 \nQ 43.3125 49.21875 43.3125 52.78125 \nQ 43.3125 58.59375 39.234375 62.25 \nQ 35.15625 65.921875 28.609375 65.921875 \nQ 23.96875 65.921875 18.8125 64.3125 \nQ 13.671875 62.703125 7.8125 59.421875 \nL 7.8125 69.390625 \nQ 13.765625 71.78125 18.9375 73 \nQ 24.125 74.21875 28.421875 74.21875 \nQ 39.75 74.21875 46.484375 68.546875 \nQ 53.21875 62.890625 53.21875 53.421875 \nQ 53.21875 48.921875 51.53125 44.890625 \nQ 49.859375 40.875 45.40625 35.40625 \nQ 44.1875 33.984375 37.640625 27.21875 \nQ 31.109375 20.453125 19.1875 8.296875 \nz\n\" id=\"DejaVuSans-50\"/>\n      </defs>\n      <use xlink:href=\"#DejaVuSans-87\"/>\n      <use x=\"98.876953\" xlink:href=\"#DejaVuSans-50\"/>\n     </g>\n    </g>\n   </g>\n   <g id=\"text_3\">\n    <g clip-path=\"url(#pd617de9409)\">\n     <!-- W3 -->\n     <g style=\"fill:#ffffff;\" transform=\"translate(13.836364 68.342273)scale(0.16 -0.16)\">\n      <defs>\n       <path d=\"M 40.578125 39.3125 \nQ 47.65625 37.796875 51.625 33 \nQ 55.609375 28.21875 55.609375 21.1875 \nQ 55.609375 10.40625 48.1875 4.484375 \nQ 40.765625 -1.421875 27.09375 -1.421875 \nQ 22.515625 -1.421875 17.65625 -0.515625 \nQ 12.796875 0.390625 7.625 2.203125 \nL 7.625 11.71875 \nQ 11.71875 9.328125 16.59375 8.109375 \nQ 21.484375 6.890625 26.8125 6.890625 \nQ 36.078125 6.890625 40.9375 10.546875 \nQ 45.796875 14.203125 45.796875 21.1875 \nQ 45.796875 27.640625 41.28125 31.265625 \nQ 36.765625 34.90625 28.71875 34.90625 \nL 20.21875 34.90625 \nL 20.21875 43.015625 \nL 29.109375 43.015625 \nQ 36.375 43.015625 40.234375 45.921875 \nQ 44.09375 48.828125 44.09375 54.296875 \nQ 44.09375 59.90625 40.109375 62.90625 \nQ 36.140625 65.921875 28.71875 65.921875 \nQ 24.65625 65.921875 20.015625 65.03125 \nQ 15.375 64.15625 9.8125 62.3125 \nL 9.8125 71.09375 \nQ 15.4375 72.65625 20.34375 73.4375 \nQ 25.25 74.21875 29.59375 74.21875 \nQ 40.828125 74.21875 47.359375 69.109375 \nQ 53.90625 64.015625 53.90625 55.328125 \nQ 53.90625 49.265625 50.4375 45.09375 \nQ 46.96875 40.921875 40.578125 39.3125 \nz\n\" id=\"DejaVuSans-51\"/>\n      </defs>\n      <use xlink:href=\"#DejaVuSans-87\"/>\n      <use x=\"98.876953\" xlink:href=\"#DejaVuSans-51\"/>\n     </g>\n    </g>\n   </g>\n   <g id=\"text_4\">\n    <g clip-path=\"url(#pd617de9409)\">\n     <!-- F1 -->\n     <g style=\"fill:#ffffff;\" transform=\"translate(409.872386 286.524091)scale(0.16 -0.16)\">\n      <defs>\n       <path d=\"M 9.8125 72.90625 \nL 51.703125 72.90625 \nL 51.703125 64.59375 \nL 19.671875 64.59375 \nL 19.671875 43.109375 \nL 48.578125 43.109375 \nL 48.578125 34.8125 \nL 19.671875 34.8125 \nL 19.671875 0 \nL 9.8125 0 \nz\n\" id=\"DejaVuSans-70\"/>\n      </defs>\n      <use xlink:href=\"#DejaVuSans-70\"/>\n      <use x=\"57.519531\" xlink:href=\"#DejaVuSans-49\"/>\n     </g>\n    </g>\n   </g>\n   <g id=\"text_5\">\n    <g clip-path=\"url(#pd617de9409)\">\n     <!-- F2 -->\n     <g style=\"fill:#ffffff;\" transform=\"translate(409.872386 199.251364)scale(0.16 -0.16)\">\n      <use xlink:href=\"#DejaVuSans-70\"/>\n      <use x=\"57.519531\" xlink:href=\"#DejaVuSans-50\"/>\n     </g>\n    </g>\n   </g>\n   <g id=\"text_6\">\n    <g clip-path=\"url(#pd617de9409)\">\n     <!-- F3 -->\n     <g style=\"fill:#ffffff;\" transform=\"translate(409.872386 111.978636)scale(0.16 -0.16)\">\n      <use xlink:href=\"#DejaVuSans-70\"/>\n      <use x=\"57.519531\" xlink:href=\"#DejaVuSans-51\"/>\n     </g>\n    </g>\n   </g>\n   <g id=\"text_7\">\n    <g clip-path=\"url(#pd617de9409)\">\n     <!-- F4 -->\n     <g style=\"fill:#ffffff;\" transform=\"translate(409.872386 24.705909)scale(0.16 -0.16)\">\n      <defs>\n       <path d=\"M 37.796875 64.3125 \nL 12.890625 25.390625 \nL 37.796875 25.390625 \nz\nM 35.203125 72.90625 \nL 47.609375 72.90625 \nL 47.609375 25.390625 \nL 58.015625 25.390625 \nL 58.015625 17.1875 \nL 47.609375 17.1875 \nL 47.609375 0 \nL 37.796875 0 \nL 37.796875 17.1875 \nL 4.890625 17.1875 \nL 4.890625 26.703125 \nz\n\" id=\"DejaVuSans-52\"/>\n      </defs>\n      <use xlink:href=\"#DejaVuSans-70\"/>\n      <use x=\"57.519531\" xlink:href=\"#DejaVuSans-52\"/>\n     </g>\n    </g>\n   </g>\n  </g>\n </g>\n <defs>\n  <clipPath id=\"pd617de9409\">\n   <rect height=\"288\" width=\"432\" x=\"7.2\" y=\"7.2\"/>\n  </clipPath>\n </defs>\n</svg>\n",
      "image/png": "[encoded data removed]"
     },
     "metadata": {}
    }
   ],
   "source": [
    "G = nx.Graph()\n",
    "for i in range(len(df_pos.columns)):\n",
    "    G.add_node(df_pos.columns[i])\n",
    "\n",
    "num_pre = 0\n",
    "edge_weights = []\n",
    "size = 0.1\n",
    "for i in range(len(df_pos.columns)):\n",
    "    for j in range(len(df_pos.columns)):\n",
    "        if not (i==j):\n",
    "            # edges\n",
    "            G.add_edge(df_pos.columns[i], df_pos.columns[j])\n",
    "            # edges weights\n",
    "            if num_pre < len(G.edges):\n",
    "                num_pre = len(G.edges)\n",
    "                weight = 0\n",
    "                if (df_pos.columns[i] in df_tr.columns) and (df_pos.columns[j] in df_tr.index):\n",
    "                    if df_tr[df_pos.columns[i]][df_pos.columns[j]]:\n",
    "                        weight = df_tr[df_pos.columns[i]][df_pos.columns[j]]*size\n",
    "                elif(df_pos.columns[j] in df_tr.columns) and (df_pos.columns[i] in df_tr.index):\n",
    "                    if df_tr[df_pos.columns[j]][df_pos.columns[i]]:\n",
    "                        weight = df_tr[df_pos.columns[j]][df_pos.columns[i]]*size\n",
    "\n",
    "                edge_weights.append(weight)\n",
    "\n",
    "pos = {}\n",
    "for i in range(len(df_pos.columns)):\n",
    "    node = df_pos.columns[i]\n",
    "    pos[node] = (df_pos[node][0], df_pos[node][1])\n",
    "nx.draw(G, pos, with_labels=True, font_size=16, node_size=1000, node_color='blue',\n",
    "        font_color='w', width=edge_weights)\n",
    "plt.show()"
   ]
  },
  {
   "cell_type": "code",
   "execution_count": 87,
   "metadata": {
    "tags": []
   },
   "outputs": [
    {
     "output_type": "stream",
     "name": "stdout",
     "text": "['W1', 'W2', 'W3', 'F1', 'F2', 'F3', 'F4']\n[('W1', 'W2'), ('W1', 'W3'), ('W1', 'F1'), ('W1', 'F2'), ('W1', 'F3'), ('W1', 'F4'), ('W2', 'W3'), ('W2', 'F1'), ('W2', 'F2'), ('W2', 'F3'), ('W2', 'F4'), ('W3', 'F1'), ('W3', 'F2'), ('W3', 'F3'), ('W3', 'F4'), ('F1', 'F2'), ('F1', 'F3'), ('F1', 'F4'), ('F2', 'F3'), ('F2', 'F4'), ('F3', 'F4')]\n21\n"
    }
   ],
   "source": [
    "print(G.nodes())\n",
    "print(G.edges())\n",
    "print(len(G.edges()))"
   ]
  },
  {
   "cell_type": "code",
   "execution_count": 97,
   "metadata": {
    "tags": []
   },
   "outputs": [],
   "source": [
    "# Define find_selfloop_nodes()\n",
    "def find_selfloop_nodes(G):\n",
    "    \"\"\"\n",
    "    Finds all nodes that have self-loops in the graph G.\n",
    "    \"\"\"\n",
    "    nodes_in_selfloops = []\n",
    "\n",
    "    # Iterate over all the edges of G\n",
    "    for u, v in G.edges():\n",
    "\n",
    "    # Check if node u and node v are the same\n",
    "        if u == v:\n",
    "\n",
    "            # Append node u to nodes_in_selfloops\n",
    "            nodes_in_selfloops.append(u)\n",
    "\n",
    "    return nodes_in_selfloops\n",
    "\n",
    "# Check whether number of self loops equals the number of nodes in self loops\n",
    "# number_of_selfloops() is deprecated\n",
    "assert len(list(nx.selfloop_edges(G))) == len(find_selfloop_nodes(G))"
   ]
  },
  {
   "cell_type": "code",
   "execution_count": 98,
   "metadata": {},
   "outputs": [
    {
     "output_type": "execute_result",
     "data": {
      "text/plain": "0"
     },
     "metadata": {},
     "execution_count": 98
    }
   ],
   "source": [
    "# Zero self-loop edge in our graph\n",
    "len(list(nx.selfloop_edges(G)))"
   ]
  },
  {
   "cell_type": "code",
   "execution_count": 103,
   "metadata": {},
   "outputs": [
    {
     "output_type": "display_data",
     "data": {
      "text/plain": "<Figure size 432x432 with 1 Axes>",
      "image/svg+xml": "<?xml version=\"1.0\" encoding=\"utf-8\" standalone=\"no\"?>\n<!DOCTYPE svg PUBLIC \"-//W3C//DTD SVG 1.1//EN\"\n  \"http://www.w3.org/Graphics/SVG/1.1/DTD/svg11.dtd\">\n<!-- Created with matplotlib (https://matplotlib.org/) -->\n<svg height=\"340.56pt\" version=\"1.1\" viewBox=\"0 0 340.56 340.56\" width=\"340.56pt\" xmlns=\"http://www.w3.org/2000/svg\" xmlns:xlink=\"http://www.w3.org/1999/xlink\">\n <metadata>\n  <rdf:RDF xmlns:cc=\"http://creativecommons.org/ns#\" xmlns:dc=\"http://purl.org/dc/elements/1.1/\" xmlns:rdf=\"http://www.w3.org/1999/02/22-rdf-syntax-ns#\">\n   <cc:Work>\n    <dc:type rdf:resource=\"http://purl.org/dc/dcmitype/StillImage\"/>\n    <dc:date>2020-10-13T17:53:23.207452</dc:date>\n    <dc:format>image/svg+xml</dc:format>\n    <dc:creator>\n     <cc:Agent>\n      <dc:title>Matplotlib v3.3.1, https://matplotlib.org/</dc:title>\n     </cc:Agent>\n    </dc:creator>\n   </cc:Work>\n  </rdf:RDF>\n </metadata>\n <defs>\n  <style type=\"text/css\">*{stroke-linecap:butt;stroke-linejoin:round;}</style>\n </defs>\n <g id=\"figure_1\">\n  <g id=\"patch_1\">\n   <path d=\"M 0 340.56 \nL 340.56 340.56 \nL 340.56 0 \nL 0 0 \nz\n\" style=\"fill:none;\"/>\n  </g>\n  <g id=\"axes_1\">\n   <g id=\"patch_2\">\n    <path d=\"M 7.2 333.36 \nL 333.36 333.36 \nL 333.36 7.2 \nL 7.2 7.2 \nz\n\" style=\"fill:#ffffff;\"/>\n   </g>\n   <g id=\"patch_3\">\n    <path clip-path=\"url(#p774d7066f3)\" d=\"M 43.44 260.88 \nQ 61.56 260.88 79.68 260.88 \n\" style=\"fill:none;opacity:0.2;stroke:#000000;stroke-linejoin:miter;\"/>\n   </g>\n   <g id=\"patch_4\">\n    <path clip-path=\"url(#p774d7066f3)\" d=\"M 43.44 260.88 \nQ 79.68 224.64 115.92 260.88 \n\" style=\"fill:none;opacity:0.2;stroke:#000000;stroke-linejoin:miter;\"/>\n   </g>\n   <g id=\"patch_5\">\n    <path clip-path=\"url(#p774d7066f3)\" d=\"M 43.44 260.88 \nQ 97.8 188.4 152.16 260.88 \n\" style=\"fill:none;opacity:0.2;stroke:#000000;stroke-linejoin:miter;\"/>\n   </g>\n   <g id=\"patch_6\">\n    <path clip-path=\"url(#p774d7066f3)\" d=\"M 43.44 260.88 \nQ 115.92 152.16 188.4 260.88 \n\" style=\"fill:none;opacity:0.2;stroke:#000000;stroke-linejoin:miter;\"/>\n   </g>\n   <g id=\"patch_7\">\n    <path clip-path=\"url(#p774d7066f3)\" d=\"M 43.44 260.88 \nQ 134.04 115.92 224.64 260.88 \n\" style=\"fill:none;opacity:0.2;stroke:#000000;stroke-linejoin:miter;\"/>\n   </g>\n   <g id=\"patch_8\">\n    <path clip-path=\"url(#p774d7066f3)\" d=\"M 43.44 260.88 \nQ 152.16 79.68 260.88 260.88 \n\" style=\"fill:none;opacity:0.2;stroke:#000000;stroke-linejoin:miter;\"/>\n   </g>\n   <g id=\"patch_9\">\n    <path clip-path=\"url(#p774d7066f3)\" d=\"M 79.68 260.88 \nQ 97.8 260.88 115.92 260.88 \n\" style=\"fill:none;opacity:0.2;stroke:#000000;stroke-linejoin:miter;\"/>\n   </g>\n   <g id=\"patch_10\">\n    <path clip-path=\"url(#p774d7066f3)\" d=\"M 79.68 260.88 \nQ 115.92 224.64 152.16 260.88 \n\" style=\"fill:none;opacity:0.2;stroke:#000000;stroke-linejoin:miter;\"/>\n   </g>\n   <g id=\"patch_11\">\n    <path clip-path=\"url(#p774d7066f3)\" d=\"M 79.68 260.88 \nQ 134.04 188.4 188.4 260.88 \n\" style=\"fill:none;opacity:0.2;stroke:#000000;stroke-linejoin:miter;\"/>\n   </g>\n   <g id=\"patch_12\">\n    <path clip-path=\"url(#p774d7066f3)\" d=\"M 79.68 260.88 \nQ 152.16 152.16 224.64 260.88 \n\" style=\"fill:none;opacity:0.2;stroke:#000000;stroke-linejoin:miter;\"/>\n   </g>\n   <g id=\"patch_13\">\n    <path clip-path=\"url(#p774d7066f3)\" d=\"M 79.68 260.88 \nQ 170.28 115.92 260.88 260.88 \n\" style=\"fill:none;opacity:0.2;stroke:#000000;stroke-linejoin:miter;\"/>\n   </g>\n   <g id=\"patch_14\">\n    <path clip-path=\"url(#p774d7066f3)\" d=\"M 115.92 260.88 \nQ 134.04 260.88 152.16 260.88 \n\" style=\"fill:none;opacity:0.2;stroke:#000000;stroke-linejoin:miter;\"/>\n   </g>\n   <g id=\"patch_15\">\n    <path clip-path=\"url(#p774d7066f3)\" d=\"M 115.92 260.88 \nQ 152.16 224.64 188.4 260.88 \n\" style=\"fill:none;opacity:0.2;stroke:#000000;stroke-linejoin:miter;\"/>\n   </g>\n   <g id=\"patch_16\">\n    <path clip-path=\"url(#p774d7066f3)\" d=\"M 115.92 260.88 \nQ 170.28 188.4 224.64 260.88 \n\" style=\"fill:none;opacity:0.2;stroke:#000000;stroke-linejoin:miter;\"/>\n   </g>\n   <g id=\"patch_17\">\n    <path clip-path=\"url(#p774d7066f3)\" d=\"M 115.92 260.88 \nQ 188.4 152.16 260.88 260.88 \n\" style=\"fill:none;opacity:0.2;stroke:#000000;stroke-linejoin:miter;\"/>\n   </g>\n   <g id=\"patch_18\">\n    <path clip-path=\"url(#p774d7066f3)\" d=\"M 152.16 260.88 \nQ 170.28 260.88 188.4 260.88 \n\" style=\"fill:none;opacity:0.2;stroke:#000000;stroke-linejoin:miter;\"/>\n   </g>\n   <g id=\"patch_19\">\n    <path clip-path=\"url(#p774d7066f3)\" d=\"M 152.16 260.88 \nQ 188.4 224.64 224.64 260.88 \n\" style=\"fill:none;opacity:0.2;stroke:#000000;stroke-linejoin:miter;\"/>\n   </g>\n   <g id=\"patch_20\">\n    <path clip-path=\"url(#p774d7066f3)\" d=\"M 152.16 260.88 \nQ 206.52 188.4 260.88 260.88 \n\" style=\"fill:none;opacity:0.2;stroke:#000000;stroke-linejoin:miter;\"/>\n   </g>\n   <g id=\"patch_21\">\n    <path clip-path=\"url(#p774d7066f3)\" d=\"M 188.4 260.88 \nQ 206.52 260.88 224.64 260.88 \n\" style=\"fill:none;opacity:0.2;stroke:#000000;stroke-linejoin:miter;\"/>\n   </g>\n   <g id=\"patch_22\">\n    <path clip-path=\"url(#p774d7066f3)\" d=\"M 188.4 260.88 \nQ 224.64 224.64 260.88 260.88 \n\" style=\"fill:none;opacity:0.2;stroke:#000000;stroke-linejoin:miter;\"/>\n   </g>\n   <g id=\"patch_23\">\n    <path clip-path=\"url(#p774d7066f3)\" d=\"M 224.64 260.88 \nQ 242.76 260.88 260.88 260.88 \n\" style=\"fill:none;opacity:0.2;stroke:#000000;stroke-linejoin:miter;\"/>\n   </g>\n   <g id=\"patch_24\">\n    <path clip-path=\"url(#p774d7066f3)\" d=\"M 43.44 279 \nC 48.24548 279 52.854787 277.090762 56.252775 273.692775 \nC 59.650762 270.294787 61.56 265.68548 61.56 260.88 \nC 61.56 256.07452 59.650762 251.465213 56.252775 248.067225 \nC 52.854787 244.669238 48.24548 242.76 43.44 242.76 \nC 38.63452 242.76 34.025213 244.669238 30.627225 248.067225 \nC 27.229238 251.465213 25.32 256.07452 25.32 260.88 \nC 25.32 265.68548 27.229238 270.294787 30.627225 273.692775 \nC 34.025213 277.090762 38.63452 279 43.44 279 \nz\n\" style=\"fill:#0000ff;\"/>\n   </g>\n   <g id=\"patch_25\">\n    <path clip-path=\"url(#p774d7066f3)\" d=\"M 79.68 279 \nC 84.48548 279 89.094787 277.090762 92.492775 273.692775 \nC 95.890762 270.294787 97.8 265.68548 97.8 260.88 \nC 97.8 256.07452 95.890762 251.465213 92.492775 248.067225 \nC 89.094787 244.669238 84.48548 242.76 79.68 242.76 \nC 74.87452 242.76 70.265213 244.669238 66.867225 248.067225 \nC 63.469238 251.465213 61.56 256.07452 61.56 260.88 \nC 61.56 265.68548 63.469238 270.294787 66.867225 273.692775 \nC 70.265213 277.090762 74.87452 279 79.68 279 \nz\n\" style=\"fill:#0000ff;\"/>\n   </g>\n   <g id=\"patch_26\">\n    <path clip-path=\"url(#p774d7066f3)\" d=\"M 115.92 279 \nC 120.72548 279 125.334787 277.090762 128.732775 273.692775 \nC 132.130762 270.294787 134.04 265.68548 134.04 260.88 \nC 134.04 256.07452 132.130762 251.465213 128.732775 248.067225 \nC 125.334787 244.669238 120.72548 242.76 115.92 242.76 \nC 111.11452 242.76 106.505213 244.669238 103.107225 248.067225 \nC 99.709238 251.465213 97.8 256.07452 97.8 260.88 \nC 97.8 265.68548 99.709238 270.294787 103.107225 273.692775 \nC 106.505213 277.090762 111.11452 279 115.92 279 \nz\n\" style=\"fill:#0000ff;\"/>\n   </g>\n   <g id=\"patch_27\">\n    <path clip-path=\"url(#p774d7066f3)\" d=\"M 152.16 279 \nC 156.96548 279 161.574787 277.090762 164.972775 273.692775 \nC 168.370762 270.294787 170.28 265.68548 170.28 260.88 \nC 170.28 256.07452 168.370762 251.465213 164.972775 248.067225 \nC 161.574787 244.669238 156.96548 242.76 152.16 242.76 \nC 147.35452 242.76 142.745213 244.669238 139.347225 248.067225 \nC 135.949238 251.465213 134.04 256.07452 134.04 260.88 \nC 134.04 265.68548 135.949238 270.294787 139.347225 273.692775 \nC 142.745213 277.090762 147.35452 279 152.16 279 \nz\n\" style=\"fill:#0000ff;\"/>\n   </g>\n   <g id=\"patch_28\">\n    <path clip-path=\"url(#p774d7066f3)\" d=\"M 188.4 279 \nC 193.20548 279 197.814787 277.090762 201.212775 273.692775 \nC 204.610762 270.294787 206.52 265.68548 206.52 260.88 \nC 206.52 256.07452 204.610762 251.465213 201.212775 248.067225 \nC 197.814787 244.669238 193.20548 242.76 188.4 242.76 \nC 183.59452 242.76 178.985213 244.669238 175.587225 248.067225 \nC 172.189238 251.465213 170.28 256.07452 170.28 260.88 \nC 170.28 265.68548 172.189238 270.294787 175.587225 273.692775 \nC 178.985213 277.090762 183.59452 279 188.4 279 \nz\n\" style=\"fill:#0000ff;\"/>\n   </g>\n   <g id=\"patch_29\">\n    <path clip-path=\"url(#p774d7066f3)\" d=\"M 224.64 279 \nC 229.44548 279 234.054787 277.090762 237.452775 273.692775 \nC 240.850762 270.294787 242.76 265.68548 242.76 260.88 \nC 242.76 256.07452 240.850762 251.465213 237.452775 248.067225 \nC 234.054787 244.669238 229.44548 242.76 224.64 242.76 \nC 219.83452 242.76 215.225213 244.669238 211.827225 248.067225 \nC 208.429238 251.465213 206.52 256.07452 206.52 260.88 \nC 206.52 265.68548 208.429238 270.294787 211.827225 273.692775 \nC 215.225213 277.090762 219.83452 279 224.64 279 \nz\n\" style=\"fill:#0000ff;\"/>\n   </g>\n   <g id=\"patch_30\">\n    <path clip-path=\"url(#p774d7066f3)\" d=\"M 260.88 279 \nC 265.68548 279 270.294787 277.090762 273.692775 273.692775 \nC 277.090762 270.294787 279 265.68548 279 260.88 \nC 279 256.07452 277.090762 251.465213 273.692775 248.067225 \nC 270.294787 244.669238 265.68548 242.76 260.88 242.76 \nC 256.07452 242.76 251.465213 244.669238 248.067225 248.067225 \nC 244.669238 251.465213 242.76 256.07452 242.76 260.88 \nC 242.76 265.68548 244.669238 270.294787 248.067225 273.692775 \nC 251.465213 277.090762 256.07452 279 260.88 279 \nz\n\" style=\"fill:#0000ff;\"/>\n   </g>\n  </g>\n </g>\n <defs>\n  <clipPath id=\"p774d7066f3\">\n   <rect height=\"326.16\" width=\"326.16\" x=\"7.2\" y=\"7.2\"/>\n  </clipPath>\n </defs>\n</svg>\n",
      "image/png": "[encoded data removed]"
     },
     "metadata": {}
    }
   ],
   "source": [
    "# another visualization\n",
    "import nxviz as nv\n",
    "ap = nv.ArcPlot(G)\n",
    "ap.draw()\n",
    "plt.show()"
   ]
  },
  {
   "cell_type": "code",
   "execution_count": 100,
   "metadata": {},
   "outputs": [
    {
     "output_type": "execute_result",
     "data": {
      "text/plain": "{'W1': 1.0, 'W2': 1.0, 'W3': 1.0, 'F1': 1.0, 'F2': 1.0, 'F3': 1.0, 'F4': 1.0}"
     },
     "metadata": {},
     "execution_count": 100
    }
   ],
   "source": [
    "# degree centrality - important nodes\n",
    "nx.degree_centrality(G)"
   ]
  },
  {
   "cell_type": "code",
   "execution_count": 113,
   "metadata": {
    "tags": []
   },
   "outputs": [
    {
     "output_type": "stream",
     "name": "stdout",
     "text": "[]\n{1: 0.125, 2: 0.125, 3: 0.0, 4: 0.0, 5: 0.0, 6: 0.0, 7: 0.0, 8: 0.0, 9: 0.0}\n"
    }
   ],
   "source": [
    "# simple example with different importance of nodes\n",
    "T = nx.Graph()\n",
    "T.add_nodes_from([1,2,3,4,5,6,7,8,9])\n",
    "T.add_edge(1, 2)\n",
    "nx.degree_centrality(T)"
   ]
  },
  {
   "cell_type": "markdown",
   "metadata": {},
   "source": [
    "### Shipping Cost function"
   ]
  },
  {
   "cell_type": "code",
   "execution_count": 43,
   "metadata": {},
   "outputs": [
    {
     "output_type": "execute_result",
     "data": {
      "text/plain": "    F1  F2  F3  F4\n工場                \nW1  10  10  11  27\nW2  18  21  12  14\nW3  15  12  14  12",
      "text/html": "<div>\n<style scoped>\n    .dataframe tbody tr th:only-of-type {\n        vertical-align: middle;\n    }\n\n    .dataframe tbody tr th {\n        vertical-align: top;\n    }\n\n    .dataframe thead th {\n        text-align: right;\n    }\n</style>\n<table border=\"1\" class=\"dataframe\">\n  <thead>\n    <tr style=\"text-align: right;\">\n      <th></th>\n      <th>F1</th>\n      <th>F2</th>\n      <th>F3</th>\n      <th>F4</th>\n    </tr>\n    <tr>\n      <th>工場</th>\n      <th></th>\n      <th></th>\n      <th></th>\n      <th></th>\n    </tr>\n  </thead>\n  <tbody>\n    <tr>\n      <th>W1</th>\n      <td>10</td>\n      <td>10</td>\n      <td>11</td>\n      <td>27</td>\n    </tr>\n    <tr>\n      <th>W2</th>\n      <td>18</td>\n      <td>21</td>\n      <td>12</td>\n      <td>14</td>\n    </tr>\n    <tr>\n      <th>W3</th>\n      <td>15</td>\n      <td>12</td>\n      <td>14</td>\n      <td>12</td>\n    </tr>\n  </tbody>\n</table>\n</div>"
     },
     "metadata": {},
     "execution_count": 43
    }
   ],
   "source": [
    "df_tc = pd.read_csv('trans_cost.csv', index_col='工場')\n",
    "df_tc"
   ]
  },
  {
   "cell_type": "code",
   "execution_count": 44,
   "metadata": {
    "tags": []
   },
   "outputs": [
    {
     "output_type": "stream",
     "name": "stdout",
     "text": "Total shipping cost: 1493\n"
    }
   ],
   "source": [
    "# cost function\n",
    "def trans_cost(df_tr, df_tc):\n",
    "    cost = 0\n",
    "    for i in range(len(df_tc.index)):\n",
    "        for j in range(len(df_tr.columns)):\n",
    "            cost += df_tr.iloc[i][j] * df_tc.iloc[i][j]\n",
    "    return cost\n",
    "\n",
    "print('Total shipping cost: '+str(trans_cost(df_tr, df_tc)))"
   ]
  },
  {
   "cell_type": "markdown",
   "metadata": {},
   "source": [
    "### Let's create a constraint"
   ]
  },
  {
   "cell_type": "code",
   "execution_count": 55,
   "metadata": {},
   "outputs": [
    {
     "output_type": "execute_result",
     "data": {
      "text/plain": "   F1  F2  F3  F4\n0  28  29  31  25",
      "text/html": "<div>\n<style scoped>\n    .dataframe tbody tr th:only-of-type {\n        vertical-align: middle;\n    }\n\n    .dataframe tbody tr th {\n        vertical-align: top;\n    }\n\n    .dataframe thead th {\n        text-align: right;\n    }\n</style>\n<table border=\"1\" class=\"dataframe\">\n  <thead>\n    <tr style=\"text-align: right;\">\n      <th></th>\n      <th>F1</th>\n      <th>F2</th>\n      <th>F3</th>\n      <th>F4</th>\n    </tr>\n  </thead>\n  <tbody>\n    <tr>\n      <th>0</th>\n      <td>28</td>\n      <td>29</td>\n      <td>31</td>\n      <td>25</td>\n    </tr>\n  </tbody>\n</table>\n</div>"
     },
     "metadata": {},
     "execution_count": 55
    }
   ],
   "source": [
    "df_demand = pd.read_csv('demand.csv')\n",
    "df_supply = pd.read_csv('supply.csv')\n",
    "df_demand"
   ]
  },
  {
   "cell_type": "code",
   "execution_count": 46,
   "metadata": {},
   "outputs": [
    {
     "output_type": "execute_result",
     "data": {
      "text/plain": "   W1  W2  W3\n0  35  41  42",
      "text/html": "<div>\n<style scoped>\n    .dataframe tbody tr th:only-of-type {\n        vertical-align: middle;\n    }\n\n    .dataframe tbody tr th {\n        vertical-align: top;\n    }\n\n    .dataframe thead th {\n        text-align: right;\n    }\n</style>\n<table border=\"1\" class=\"dataframe\">\n  <thead>\n    <tr style=\"text-align: right;\">\n      <th></th>\n      <th>W1</th>\n      <th>W2</th>\n      <th>W3</th>\n    </tr>\n  </thead>\n  <tbody>\n    <tr>\n      <th>0</th>\n      <td>35</td>\n      <td>41</td>\n      <td>42</td>\n    </tr>\n  </tbody>\n</table>\n</div>"
     },
     "metadata": {},
     "execution_count": 46
    }
   ],
   "source": [
    "df_supply"
   ]
  },
  {
   "cell_type": "code",
   "execution_count": 58,
   "metadata": {
    "tags": []
   },
   "outputs": [
    {
     "output_type": "stream",
     "name": "stdout",
     "text": "Transport volume to F1: 30 (Demand:28)\nDemand requirements are met!\nTransport volume to F2: 30 (Demand:29)\nDemand requirements are met!\nTransport volume to F3: 32 (Demand:31)\nDemand requirements are met!\nTransport volume to F4: 25 (Demand:25)\nDemand requirements are met!\n"
    }
   ],
   "source": [
    "# constraints on the demand side\n",
    "for i in range(len(df_demand.columns)):\n",
    "    temp_sum = sum(df_tr[df_demand.columns[i]])\n",
    "    print('Transport volume to '+str(df_demand.columns[i])+ ': '+str(temp_sum)+' (Demand:'+str(df_demand.iloc[0][i])+')')\n",
    "    if temp_sum >= df_demand.iloc[0][i]:\n",
    "        print('Demand requirements are met!')\n",
    "    else:\n",
    "        print('Demand requirements are not met. Please recalculate the route')"
   ]
  },
  {
   "cell_type": "code",
   "execution_count": 59,
   "metadata": {
    "tags": []
   },
   "outputs": [
    {
     "output_type": "stream",
     "name": "stdout",
     "text": "Transport volume from W1: 35 (Supply:28)\nWithin the supply limit!\nTransport volume from W2: 40 (Supply:29)\nWithin the supply limit!\nTransport volume from W3: 42 (Supply:31)\nWithin the supply limit!\n"
    }
   ],
   "source": [
    "# Constraints on the supply side\n",
    "for i in range(len(df_supply.columns)):\n",
    "    temp_sum = sum(df_tr.loc[df_supply.columns[i]])\n",
    "    print('Transport volume from '+str(df_supply.columns[i])+ ': '+str(temp_sum)+' (Supply:'+str(df_demand.iloc[0][i])+')')\n",
    "    if temp_sum <= df_supply.iloc[0][i]:\n",
    "        print('Within the supply limit!')\n",
    "    else:\n",
    "        print('Supply limit has been exceeded. Please recalculate the route')"
   ]
  },
  {
   "cell_type": "markdown",
   "metadata": {},
   "source": [
    "### Change the transportation route and see the change in the cost function"
   ]
  },
  {
   "cell_type": "code",
   "execution_count": 60,
   "metadata": {},
   "outputs": [
    {
     "output_type": "execute_result",
     "data": {
      "text/plain": "    F1  F2  F3  F4\n工場                \nW1  15  15   0   0\nW2   5   0  30  10\nW3  10  15   2  15",
      "text/html": "<div>\n<style scoped>\n    .dataframe tbody tr th:only-of-type {\n        vertical-align: middle;\n    }\n\n    .dataframe tbody tr th {\n        vertical-align: top;\n    }\n\n    .dataframe thead th {\n        text-align: right;\n    }\n</style>\n<table border=\"1\" class=\"dataframe\">\n  <thead>\n    <tr style=\"text-align: right;\">\n      <th></th>\n      <th>F1</th>\n      <th>F2</th>\n      <th>F3</th>\n      <th>F4</th>\n    </tr>\n    <tr>\n      <th>工場</th>\n      <th></th>\n      <th></th>\n      <th></th>\n      <th></th>\n    </tr>\n  </thead>\n  <tbody>\n    <tr>\n      <th>W1</th>\n      <td>15</td>\n      <td>15</td>\n      <td>0</td>\n      <td>0</td>\n    </tr>\n    <tr>\n      <th>W2</th>\n      <td>5</td>\n      <td>0</td>\n      <td>30</td>\n      <td>10</td>\n    </tr>\n    <tr>\n      <th>W3</th>\n      <td>10</td>\n      <td>15</td>\n      <td>2</td>\n      <td>15</td>\n    </tr>\n  </tbody>\n</table>\n</div>"
     },
     "metadata": {},
     "execution_count": 60
    }
   ],
   "source": [
    "df_tr_new = pd.read_csv('trans_route_new.csv', index_col=\"工場\")\n",
    "df_tr_new"
   ]
  },
  {
   "cell_type": "code",
   "execution_count": 63,
   "metadata": {
    "tags": []
   },
   "outputs": [
    {
     "output_type": "stream",
     "name": "stdout",
     "text": "Transportation cost (after change):1428\n"
    }
   ],
   "source": [
    "print(\"Transportation cost (after change):\"+str(trans_cost(df_tr_new, df_tc)))"
   ]
  },
  {
   "cell_type": "code",
   "execution_count": 70,
   "metadata": {},
   "outputs": [],
   "source": [
    "# Constraint calculation function\n",
    "# Demand side\n",
    "import numpy as np\n",
    "def condition_demand(df_tr, df_demand):\n",
    "    flag = np.zeros(len(df_demand.columns))\n",
    "    for i in range(len(df_demand.columns)):\n",
    "        temp_sum = sum(df_tr[df_demand.columns[i]])\n",
    "        if (temp_sum >= df_demand.iloc[0][i]):\n",
    "            flag[i] = 1\n",
    "    return flag"
   ]
  },
  {
   "cell_type": "code",
   "execution_count": 71,
   "metadata": {},
   "outputs": [],
   "source": [
    "# supply side\n",
    "def condition_supply(df_tr,df_supply):\n",
    "    flag = np.zeros(len(df_supply.columns))\n",
    "    for i in range(len(df_supply.columns)):\n",
    "        temp_sum = sum(df_tr.loc[df_supply.columns[i]])\n",
    "        if (temp_sum <= df_supply.iloc[0][i]):\n",
    "            flag[i] = 1\n",
    "    return flag"
   ]
  },
  {
   "cell_type": "code",
   "execution_count": 72,
   "metadata": {
    "tags": []
   },
   "outputs": [
    {
     "output_type": "stream",
     "name": "stdout",
     "text": "Demand requirements (after change):[1. 1. 1. 1.]\nSupply requirements (after change):[1. 0. 1.]\n"
    }
   ],
   "source": [
    "print(\"Demand requirements (after change):\"+str(condition_demand(df_tr_new,df_demand)))\n",
    "print(\"Supply requirements (after change):\"+str(condition_supply(df_tr_new,df_supply)))"
   ]
  }
 ],
 "metadata": {
  "language_info": {
   "codemirror_mode": {
    "name": "ipython",
    "version": 3
   },
   "file_extension": ".py",
   "mimetype": "text/x-python",
   "name": "python",
   "nbconvert_exporter": "python",
   "pygments_lexer": "ipython3",
   "version": 3
  },
  "orig_nbformat": 2,
  "kernelspec": {
   "name": "python_defaultSpec_1602550923795",
   "display_name": "Python 3.7.7 64-bit ('base': conda)"
  }
 },
 "nbformat": 4,
 "nbformat_minor": 2
}