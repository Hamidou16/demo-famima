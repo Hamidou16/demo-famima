{
  "cells": [
    {
      "cell_type": "markdown",
      "metadata": {
        "id": "3DR-eO17geWu",
        "colab_type": "text"
      },
      "source": [
        "# Convolutional Neural Network"
      ]
    },
    {
      "cell_type": "markdown",
      "metadata": {},
      "source": [
        "![](./resources/cnn.jpeg)"
      ]
    },
    {
      "cell_type": "markdown",
      "metadata": {},
      "source": [
        "In deep learning, a **convolutional neural network** (CNN, or ConvNet) is a class of deep neural networks, most commonly applied to analyzing visual imagery. They are also known as **shift invariant** or **space invariant artificial neural networks** (SIANN), based on their shared-weights architecture and translation invariance characteristics. They have applications in image and video recognition, recommender systems, image classification, medical image analysis, natural language processing, and financial time series."
      ]
    },
    {
      "cell_type": "markdown",
      "metadata": {},
      "source": [
        "![](./resources/mnist.jpeg)"
      ]
    },
    {
      "cell_type": "markdown",
      "metadata": {},
      "source": [
        "![](./resources/chanels.png)"
      ]
    },
    {
      "cell_type": "markdown",
      "metadata": {},
      "source": [
        "![](./resources/kernel.gif)"
      ]
    },
    {
      "cell_type": "markdown",
      "metadata": {},
      "source": [
        "![](./resources/moving.gif)"
      ]
    },
    {
      "cell_type": "markdown",
      "metadata": {},
      "source": [
        "![](./resources/strides2.gif)"
      ]
    },
    {
      "cell_type": "markdown",
      "metadata": {},
      "source": [
        "![](./resources/5x5x1.gif)"
      ]
    },
    {
      "cell_type": "markdown",
      "metadata": {},
      "source": [
        "![](./resources/pooling.gif)"
      ]
    },
    {
      "cell_type": "markdown",
      "metadata": {},
      "source": [
        "![](./resources/maxPooling.png)"
      ]
    },
    {
      "cell_type": "markdown",
      "metadata": {},
      "source": [
        "![](./resources/flatten.png)"
      ]
    },
    {
      "cell_type": "markdown",
      "metadata": {},
      "source": [
        "![](./resources/fc.jpeg)"
      ]
    },
    {
      "cell_type": "markdown",
      "metadata": {
        "id": "EMefrVPCg-60",
        "colab_type": "text"
      },
      "source": [
        "### Importing the libraries"
      ]
    },
    {
      "cell_type": "code",
      "metadata": {
        "id": "sCV30xyVhFbE",
        "colab_type": "code",
        "colab": {},
        "tags": []
      },
      "source": [
        "import tensorflow as tf\n",
        "# from keras.preprocessing.image import ImageDataGeneratory\n",
        "from tensorflow.keras.preprocessing.image import ImageDataGenerator\n",
        "ImageDataGenerator.apply_transform"
      ],
      "execution_count": 1,
      "outputs": [
        {
          "output_type": "execute_result",
          "data": {
            "text/plain": "<function keras_preprocessing.image.image_data_generator.ImageDataGenerator.apply_transform(self, x, transform_parameters)>"
          },
          "metadata": {},
          "execution_count": 1
        }
      ]
    },
    {
      "cell_type": "markdown",
      "metadata": {
        "id": "oxQxCBWyoGPE",
        "colab_type": "text"
      },
      "source": [
        "## Part 1 - Data Preprocessing"
      ]
    },
    {
      "cell_type": "markdown",
      "metadata": {
        "id": "MvE-heJNo3GG",
        "colab_type": "text"
      },
      "source": [
        "### Preprocessing the Training set"
      ]
    },
    {
      "cell_type": "code",
      "metadata": {
        "id": "0koUcJMJpEBD",
        "colab_type": "code",
        "colab": {},
        "tags": []
      },
      "source": [
        "train_datagen = ImageDataGenerator(rescale = 1./255,\n",
        "                                   shear_range = 0.2,\n",
        "                                   zoom_range = 0.2,\n",
        "                                   horizontal_flip = True)\n",
        "training_set = train_datagen.flow_from_directory('./dataset/training_set',\n",
        "                                                 target_size = (64, 64),\n",
        "                                                 batch_size = 32,\n",
        "                                                 class_mode = 'binary')"
      ],
      "execution_count": 2,
      "outputs": [
        {
          "output_type": "stream",
          "name": "stdout",
          "text": "Found 8000 images belonging to 2 classes.\n"
        }
      ]
    },
    {
      "cell_type": "markdown",
      "metadata": {
        "id": "mrCMmGw9pHys",
        "colab_type": "text"
      },
      "source": [
        "### Preprocessing the Test set"
      ]
    },
    {
      "cell_type": "code",
      "metadata": {
        "id": "SH4WzfOhpKc3",
        "colab_type": "code",
        "colab": {},
        "tags": []
      },
      "source": [
        "test_datagen = ImageDataGenerator(rescale = 1./255)\n",
        "test_set = test_datagen.flow_from_directory('./dataset/test_set',\n",
        "                                            target_size = (64, 64),\n",
        "                                            batch_size = 32,\n",
        "                                            class_mode = 'binary')"
      ],
      "execution_count": 3,
      "outputs": [
        {
          "output_type": "stream",
          "name": "stdout",
          "text": "Found 2000 images belonging to 2 classes.\n"
        }
      ]
    },
    {
      "cell_type": "markdown",
      "metadata": {
        "id": "af8O4l90gk7B",
        "colab_type": "text"
      },
      "source": [
        "## Part 2 - Building the CNN"
      ]
    },
    {
      "cell_type": "markdown",
      "metadata": {
        "id": "ces1gXY2lmoX",
        "colab_type": "text"
      },
      "source": [
        "### Initialising the CNN"
      ]
    },
    {
      "cell_type": "code",
      "metadata": {
        "id": "SAUt4UMPlhLS",
        "colab_type": "code",
        "colab": {}
      },
      "source": [
        "cnn = tf.keras.models.Sequential()"
      ],
      "execution_count": 4,
      "outputs": []
    },
    {
      "cell_type": "markdown",
      "metadata": {
        "id": "u5YJj_XMl5LF",
        "colab_type": "text"
      },
      "source": [
        "### Step 1 - Convolution"
      ]
    },
    {
      "cell_type": "code",
      "metadata": {
        "id": "XPzPrMckl-hV",
        "colab_type": "code",
        "colab": {},
        "tags": []
      },
      "source": [
        "cnn.add(tf.keras.layers.Conv2D(filters=32, kernel_size=3, activation='relu', input_shape=[64, 64, 3]))"
      ],
      "execution_count": 5,
      "outputs": [
        {
          "output_type": "stream",
          "name": "stdout",
          "text": "WARNING:tensorflow:From /Users/oneterrace/anaconda3/lib/python3.7/site-packages/tensorflow/python/ops/init_ops.py:1251: calling VarianceScaling.__init__ (from tensorflow.python.ops.init_ops) with dtype is deprecated and will be removed in a future version.\nInstructions for updating:\nCall initializer instance with the dtype argument instead of passing it to the constructor\n"
        }
      ]
    },
    {
      "cell_type": "markdown",
      "metadata": {
        "id": "tf87FpvxmNOJ",
        "colab_type": "text"
      },
      "source": [
        "### Step 2 - Pooling"
      ]
    },
    {
      "cell_type": "code",
      "metadata": {
        "id": "ncpqPl69mOac",
        "colab_type": "code",
        "colab": {}
      },
      "source": [
        "cnn.add(tf.keras.layers.MaxPool2D(pool_size=2, strides=2))"
      ],
      "execution_count": 6,
      "outputs": []
    },
    {
      "cell_type": "markdown",
      "metadata": {
        "id": "xaTOgD8rm4mU",
        "colab_type": "text"
      },
      "source": [
        "### Adding a second convolutional layer"
      ]
    },
    {
      "cell_type": "code",
      "metadata": {
        "id": "i_-FZjn_m8gk",
        "colab_type": "code",
        "colab": {}
      },
      "source": [
        "cnn.add(tf.keras.layers.Conv2D(filters=32, kernel_size=3, activation='relu'))\n",
        "cnn.add(tf.keras.layers.MaxPool2D(pool_size=2, strides=2))"
      ],
      "execution_count": 7,
      "outputs": []
    },
    {
      "cell_type": "markdown",
      "metadata": {
        "id": "tmiEuvTunKfk",
        "colab_type": "text"
      },
      "source": [
        "### Step 3 - Flattening"
      ]
    },
    {
      "cell_type": "code",
      "metadata": {
        "id": "6AZeOGCvnNZn",
        "colab_type": "code",
        "colab": {}
      },
      "source": [
        "cnn.add(tf.keras.layers.Flatten())"
      ],
      "execution_count": 8,
      "outputs": []
    },
    {
      "cell_type": "markdown",
      "metadata": {
        "id": "dAoSECOm203v",
        "colab_type": "text"
      },
      "source": [
        "### Step 4 - Full Connection"
      ]
    },
    {
      "cell_type": "code",
      "metadata": {
        "id": "8GtmUlLd26Nq",
        "colab_type": "code",
        "colab": {}
      },
      "source": [
        "cnn.add(tf.keras.layers.Dense(units=128, activation='relu'))"
      ],
      "execution_count": 9,
      "outputs": []
    },
    {
      "cell_type": "markdown",
      "metadata": {
        "id": "yTldFvbX28Na",
        "colab_type": "text"
      },
      "source": [
        "### Step 5 - Output Layer"
      ]
    },
    {
      "cell_type": "code",
      "metadata": {
        "id": "1p_Zj1Mc3Ko_",
        "colab_type": "code",
        "colab": {}
      },
      "source": [
        "cnn.add(tf.keras.layers.Dense(units=1, activation='sigmoid'))"
      ],
      "execution_count": 10,
      "outputs": []
    },
    {
      "cell_type": "markdown",
      "metadata": {
        "id": "D6XkI90snSDl",
        "colab_type": "text"
      },
      "source": [
        "## Part 3 - Training the CNN"
      ]
    },
    {
      "cell_type": "markdown",
      "metadata": {
        "id": "vfrFQACEnc6i",
        "colab_type": "text"
      },
      "source": [
        "### Compiling the CNN"
      ]
    },
    {
      "cell_type": "code",
      "metadata": {
        "id": "NALksrNQpUlJ",
        "colab_type": "code",
        "colab": {},
        "tags": []
      },
      "source": [
        "cnn.compile(optimizer = 'adam', loss = 'binary_crossentropy', metrics = ['accuracy'])"
      ],
      "execution_count": 11,
      "outputs": [
        {
          "output_type": "stream",
          "name": "stdout",
          "text": "WARNING:tensorflow:From /Users/oneterrace/anaconda3/lib/python3.7/site-packages/tensorflow/python/ops/nn_impl.py:180: add_dispatch_support.<locals>.wrapper (from tensorflow.python.ops.array_ops) is deprecated and will be removed in a future version.\nInstructions for updating:\nUse tf.where in 2.0, which has the same broadcast rule as np.where\n"
        }
      ]
    },
    {
      "cell_type": "markdown",
      "metadata": {
        "id": "ehS-v3MIpX2h",
        "colab_type": "text"
      },
      "source": [
        "### Training the CNN on the Training set and evaluating it on the Test set"
      ]
    },
    {
      "cell_type": "code",
      "metadata": {
        "id": "XUj1W4PJptta",
        "colab_type": "code",
        "colab": {},
        "tags": []
      },
      "source": [
        "cnn.fit(x = training_set, validation_data = test_set, epochs = 25)"
      ],
      "execution_count": 12,
      "outputs": [
        {
          "output_type": "stream",
          "name": "stdout",
          "text": "Epoch 1/25\n250/250 [==============================] - 44s 175ms/step - loss: 0.6653 - acc: 0.5891 - val_loss: 0.6430 - val_acc: 0.6315\nEpoch 2/25\n250/250 [==============================] - 31s 125ms/step - loss: 0.5819 - acc: 0.6917 - val_loss: 0.5545 - val_acc: 0.7155\nEpoch 3/25\n250/250 [==============================] - 32s 126ms/step - loss: 0.5456 - acc: 0.7206 - val_loss: 0.5108 - val_acc: 0.7525\nEpoch 4/25\n250/250 [==============================] - 32s 128ms/step - loss: 0.5159 - acc: 0.7461 - val_loss: 0.4999 - val_acc: 0.7555\nEpoch 5/25\n250/250 [==============================] - 32s 129ms/step - loss: 0.4940 - acc: 0.7573 - val_loss: 0.4829 - val_acc: 0.7675\nEpoch 6/25\n250/250 [==============================] - 32s 126ms/step - loss: 0.4765 - acc: 0.7691 - val_loss: 0.4797 - val_acc: 0.7820\nEpoch 7/25\n250/250 [==============================] - 32s 128ms/step - loss: 0.4479 - acc: 0.7864 - val_loss: 0.5510 - val_acc: 0.7400\nEpoch 8/25\n250/250 [==============================] - 32s 127ms/step - loss: 0.4414 - acc: 0.7929 - val_loss: 0.4517 - val_acc: 0.7885\nEpoch 9/25\n250/250 [==============================] - 31s 125ms/step - loss: 0.4261 - acc: 0.8011 - val_loss: 0.4468 - val_acc: 0.8020\nEpoch 10/25\n250/250 [==============================] - 32s 129ms/step - loss: 0.4140 - acc: 0.8119 - val_loss: 0.4343 - val_acc: 0.8110\nEpoch 11/25\n250/250 [==============================] - 33s 131ms/step - loss: 0.4029 - acc: 0.8112 - val_loss: 0.4668 - val_acc: 0.7825\nEpoch 12/25\n250/250 [==============================] - 32s 130ms/step - loss: 0.3877 - acc: 0.8231 - val_loss: 0.4252 - val_acc: 0.8110\nEpoch 13/25\n250/250 [==============================] - 32s 129ms/step - loss: 0.3830 - acc: 0.8286 - val_loss: 0.4406 - val_acc: 0.8085\nEpoch 14/25\n250/250 [==============================] - 32s 130ms/step - loss: 0.3720 - acc: 0.8304 - val_loss: 0.4307 - val_acc: 0.8160\nEpoch 15/25\n250/250 [==============================] - 32s 129ms/step - loss: 0.3606 - acc: 0.8382 - val_loss: 0.4312 - val_acc: 0.8115\nEpoch 16/25\n250/250 [==============================] - 32s 129ms/step - loss: 0.3512 - acc: 0.8469 - val_loss: 0.4290 - val_acc: 0.8215\nEpoch 17/25\n250/250 [==============================] - 32s 129ms/step - loss: 0.3422 - acc: 0.8470 - val_loss: 0.4348 - val_acc: 0.8035\nEpoch 18/25\n250/250 [==============================] - 32s 128ms/step - loss: 0.3315 - acc: 0.8535 - val_loss: 0.4536 - val_acc: 0.8085\nEpoch 19/25\n250/250 [==============================] - 32s 128ms/step - loss: 0.3150 - acc: 0.8599 - val_loss: 0.4399 - val_acc: 0.8205\nEpoch 20/25\n250/250 [==============================] - 32s 128ms/step - loss: 0.3103 - acc: 0.8670 - val_loss: 0.4554 - val_acc: 0.8055\nEpoch 21/25\n250/250 [==============================] - 33s 130ms/step - loss: 0.3067 - acc: 0.8699 - val_loss: 0.4427 - val_acc: 0.8130\nEpoch 22/25\n250/250 [==============================] - 32s 129ms/step - loss: 0.3006 - acc: 0.8685 - val_loss: 0.4630 - val_acc: 0.8180\nEpoch 23/25\n250/250 [==============================] - 33s 131ms/step - loss: 0.2911 - acc: 0.8769 - val_loss: 0.4976 - val_acc: 0.8035\nEpoch 24/25\n250/250 [==============================] - 32s 128ms/step - loss: 0.2850 - acc: 0.8760 - val_loss: 0.4726 - val_acc: 0.8095\nEpoch 25/25\n250/250 [==============================] - 33s 131ms/step - loss: 0.2769 - acc: 0.8845 - val_loss: 0.4454 - val_acc: 0.8100\n"
        },
        {
          "output_type": "execute_result",
          "data": {
            "text/plain": "<tensorflow.python.keras.callbacks.History at 0x7fda615cf390>"
          },
          "metadata": {},
          "execution_count": 12
        }
      ]
    },
    {
      "cell_type": "markdown",
      "metadata": {
        "id": "U3PZasO0006Z",
        "colab_type": "text"
      },
      "source": [
        "## Part 4 - Making a single prediction"
      ]
    },
    {
      "cell_type": "code",
      "metadata": {
        "id": "gsSiWEJY1BPB",
        "colab_type": "code",
        "colab": {},
        "tags": []
      },
      "source": [
        "import numpy as np\n",
        "from keras.preprocessing import image\n",
        "test_image = image.load_img('./dataset/single_prediction/cat_or_dog_1.jpg', target_size = (64, 64))\n",
        "test_image = image.img_to_array(test_image)\n",
        "test_image = np.expand_dims(test_image, axis = 0)\n",
        "result = cnn.predict(test_image)\n",
        "training_set.class_indices\n",
        "if result[0][0] == 1:\n",
        "  prediction = 'dog'\n",
        "else:\n",
        "  prediction = 'cat'"
      ],
      "execution_count": 17,
      "outputs": []
    },
    {
      "cell_type": "code",
      "metadata": {
        "id": "ED9KB3I54c1i",
        "colab_type": "code",
        "colab": {},
        "tags": []
      },
      "source": [
        "print(prediction)"
      ],
      "execution_count": 18,
      "outputs": [
        {
          "output_type": "stream",
          "name": "stdout",
          "text": "dog\n"
        }
      ]
    }
  ],
  "metadata": {
    "colab": {
      "name": "convolutional_neural_network.ipynb",
      "provenance": [],
      "collapsed_sections": [],
      "toc_visible": true
    },
    "kernelspec": {
      "name": "python3",
      "display_name": "Python 3"
    }
  },
  "nbformat": 4,
  "nbformat_minor": 0
}