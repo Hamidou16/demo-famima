{
 "cells": [
  {
   "cell_type": "markdown",
   "metadata": {},
   "source": [
    "# Transportation Problem With PuLP in Python "
   ]
  },
  {
   "cell_type": "markdown",
   "metadata": {},
   "source": [
    "## Determine how many products to ship from each processing plant in order to minimize the total number of product-miles (Each mile a product travels)"
   ]
  },
  {
   "cell_type": "code",
   "execution_count": 1,
   "metadata": {},
   "outputs": [],
   "source": [
    "from pulp import *"
   ]
  },
  {
   "cell_type": "code",
   "execution_count": 2,
   "metadata": {},
   "outputs": [],
   "source": [
    "# sets\n",
    "ORIGIN = [\"origin1\", \"origin2\", \"origin3\"]\n",
    "PLANTS = [\"plant1\", \"plant2\", \"plant3\"]"
   ]
  },
  {
   "cell_type": "code",
   "execution_count": 3,
   "metadata": {},
   "outputs": [],
   "source": [
    "# dictionary of max amount that can be shipped to each plant\n",
    "mship = {'plant1': 200000,\n",
    "        'plant2': 600000,\n",
    "        'plant3': 225000}"
   ]
  },
  {
   "cell_type": "code",
   "execution_count": 4,
   "metadata": {},
   "outputs": [],
   "source": [
    "# dictionary of amount each origin will suply\n",
    "supply = {'origin1': 275000,\n",
    "         'origin2': 400000,\n",
    "         'origin3': 300000}"
   ]
  },
  {
   "cell_type": "code",
   "execution_count": 5,
   "metadata": {},
   "outputs": [],
   "source": [
    "# dictionary of miles for all origins and plants\n",
    "dict_all = {'origin1': {'plant1': 21, 'plant2': 50, 'plant3': 40},\n",
    "            'origin2': {'plant1': 35, 'plant2': 30, 'plant3': 22},\n",
    "            'origin3': {'plant1': 55, 'plant2': 20, 'plant3': 25}\n",
    "            }"
   ]
  },
  {
   "cell_type": "code",
   "execution_count": 6,
   "metadata": {},
   "outputs": [],
   "source": [
    "# set problem variable\n",
    "prob = LpProblem('Transportation', LpMinimize)\n",
    "\n",
    "routes = [(i,j) for i in ORIGIN for j in PLANTS]"
   ]
  },
  {
   "cell_type": "code",
   "execution_count": 7,
   "metadata": {},
   "outputs": [],
   "source": [
    "# decision variable\n",
    "amount_vars = LpVariable.dicts('ShipAmount', (ORIGIN, PLANTS), 0)"
   ]
  },
  {
   "cell_type": "code",
   "execution_count": 8,
   "metadata": {},
   "outputs": [],
   "source": [
    "# objective function\n",
    "prob += lpSum(amount_vars[i][j] * dict_all[i][j] for (i,j) in routes)"
   ]
  },
  {
   "cell_type": "code",
   "execution_count": 9,
   "metadata": {},
   "outputs": [],
   "source": [
    "# constraints \n",
    "for j in PLANTS:\n",
    "    prob += lpSum(amount_vars[i][j] for i in ORIGIN) <= mship[j]\n",
    "for i in ORIGIN:\n",
    "    prob += lpSum(amount_vars[i][j] for j in PLANTS) == supply[i]"
   ]
  },
  {
   "cell_type": "code",
   "execution_count": 10,
   "metadata": {
    "tags": []
   },
   "outputs": [
    {
     "output_type": "stream",
     "name": "stdout",
     "text": "Status: Optimal\nShipAmount_origin1_plant1 = 200000.0\nShipAmount_origin1_plant3 = 75000.0\nShipAmount_origin2_plant2 = 250000.0\nShipAmount_origin2_plant3 = 150000.0\nShipAmount_origin3_plant2 = 300000.0\nTotal product-mile = 24000000.0\n"
    }
   ],
   "source": [
    "prob.solve()\n",
    "print('Status:', LpStatus[prob.status])\n",
    "\n",
    "for v in prob.variables():\n",
    "    if v.varValue > 0:\n",
    "        print(v.name, '=', v.varValue)\n",
    "\n",
    "print('Total product-mile =', value(prob.objective))"
   ]
  }
 ],
 "metadata": {
  "language_info": {
   "codemirror_mode": {
    "name": "ipython",
    "version": 3
   },
   "file_extension": ".py",
   "mimetype": "text/x-python",
   "name": "python",
   "nbconvert_exporter": "python",
   "pygments_lexer": "ipython3",
   "version": 3
  },
  "orig_nbformat": 2,
  "kernelspec": {
   "name": "python_defaultSpec_1602580741229",
   "display_name": "Python 3.7.7 64-bit ('base': conda)"
  }
 },
 "nbformat": 4,
 "nbformat_minor": 2
}